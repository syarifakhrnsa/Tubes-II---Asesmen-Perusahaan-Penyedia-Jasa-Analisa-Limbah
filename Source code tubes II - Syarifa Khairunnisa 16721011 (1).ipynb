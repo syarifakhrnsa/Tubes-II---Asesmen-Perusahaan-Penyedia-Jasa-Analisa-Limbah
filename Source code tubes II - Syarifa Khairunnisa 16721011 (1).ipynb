{
 "cells": [
  {
   "cell_type": "markdown",
   "metadata": {},
   "source": [
    "### Syarifa Khairunnisa - 16721011"
   ]
  },
  {
   "cell_type": "markdown",
   "metadata": {},
   "source": [
    "## Import Library"
   ]
  },
  {
   "cell_type": "code",
   "execution_count": 2,
   "metadata": {},
   "outputs": [],
   "source": [
    "import pandas as pd\n",
    "import matplotlib.pyplot as plt\n",
    "import seaborn as sns\n",
    "import warnings\n",
    "warnings.filterwarnings('ignore')\n",
    "plt.style.use('seaborn')"
   ]
  },
  {
   "cell_type": "markdown",
   "metadata": {},
   "source": [
    "## Import Dataset A\n",
    "\n",
    "Sheet 1 - Data Perusahaan A"
   ]
  },
  {
   "cell_type": "code",
   "execution_count": 3,
   "metadata": {},
   "outputs": [],
   "source": [
    "df_a = pd.read_excel('File data tugas besar 2.xls', 'Perusahaan A data')"
   ]
  },
  {
   "cell_type": "code",
   "execution_count": 4,
   "metadata": {
    "scrolled": true
   },
   "outputs": [
    {
     "data": {
      "text/html": [
       "<div>\n",
       "<style scoped>\n",
       "    .dataframe tbody tr th:only-of-type {\n",
       "        vertical-align: middle;\n",
       "    }\n",
       "\n",
       "    .dataframe tbody tr th {\n",
       "        vertical-align: top;\n",
       "    }\n",
       "\n",
       "    .dataframe thead th {\n",
       "        text-align: right;\n",
       "    }\n",
       "</style>\n",
       "<table border=\"1\" class=\"dataframe\">\n",
       "  <thead>\n",
       "    <tr style=\"text-align: right;\">\n",
       "      <th></th>\n",
       "      <th>No.</th>\n",
       "      <th>Hari</th>\n",
       "      <th>Jumlah percobaan per analisa</th>\n",
       "      <th>Biaya per percobaan (Rp/percobaan)</th>\n",
       "      <th>Biaya total analisa (Rp)</th>\n",
       "      <th>Lama per percobaan(jam)</th>\n",
       "      <th>Lama total analisa (jam)</th>\n",
       "      <th>Kriteria biaya akibat penghentian alat (Rp/jam)</th>\n",
       "      <th>Total Biaya (Rp)</th>\n",
       "    </tr>\n",
       "  </thead>\n",
       "  <tbody>\n",
       "    <tr>\n",
       "      <th>0</th>\n",
       "      <td>1</td>\n",
       "      <td>Senin</td>\n",
       "      <td>21</td>\n",
       "      <td>15</td>\n",
       "      <td>315</td>\n",
       "      <td>6</td>\n",
       "      <td>1890</td>\n",
       "      <td>400</td>\n",
       "      <td>756315</td>\n",
       "    </tr>\n",
       "    <tr>\n",
       "      <th>1</th>\n",
       "      <td>2</td>\n",
       "      <td>Selasa</td>\n",
       "      <td>15</td>\n",
       "      <td>15</td>\n",
       "      <td>225</td>\n",
       "      <td>6</td>\n",
       "      <td>1350</td>\n",
       "      <td>400</td>\n",
       "      <td>540225</td>\n",
       "    </tr>\n",
       "    <tr>\n",
       "      <th>2</th>\n",
       "      <td>3</td>\n",
       "      <td>Rabu</td>\n",
       "      <td>29</td>\n",
       "      <td>15</td>\n",
       "      <td>435</td>\n",
       "      <td>5</td>\n",
       "      <td>2175</td>\n",
       "      <td>400</td>\n",
       "      <td>870435</td>\n",
       "    </tr>\n",
       "    <tr>\n",
       "      <th>3</th>\n",
       "      <td>4</td>\n",
       "      <td>Kamis</td>\n",
       "      <td>15</td>\n",
       "      <td>15</td>\n",
       "      <td>225</td>\n",
       "      <td>5</td>\n",
       "      <td>1125</td>\n",
       "      <td>400</td>\n",
       "      <td>450225</td>\n",
       "    </tr>\n",
       "    <tr>\n",
       "      <th>4</th>\n",
       "      <td>5</td>\n",
       "      <td>Jum'at</td>\n",
       "      <td>14</td>\n",
       "      <td>15</td>\n",
       "      <td>210</td>\n",
       "      <td>5</td>\n",
       "      <td>1050</td>\n",
       "      <td>400</td>\n",
       "      <td>420210</td>\n",
       "    </tr>\n",
       "    <tr>\n",
       "      <th>...</th>\n",
       "      <td>...</td>\n",
       "      <td>...</td>\n",
       "      <td>...</td>\n",
       "      <td>...</td>\n",
       "      <td>...</td>\n",
       "      <td>...</td>\n",
       "      <td>...</td>\n",
       "      <td>...</td>\n",
       "      <td>...</td>\n",
       "    </tr>\n",
       "    <tr>\n",
       "      <th>65530</th>\n",
       "      <td>65531</td>\n",
       "      <td>Kamis</td>\n",
       "      <td>21</td>\n",
       "      <td>15</td>\n",
       "      <td>315</td>\n",
       "      <td>5</td>\n",
       "      <td>1575</td>\n",
       "      <td>400</td>\n",
       "      <td>630315</td>\n",
       "    </tr>\n",
       "    <tr>\n",
       "      <th>65531</th>\n",
       "      <td>65532</td>\n",
       "      <td>Jum'at</td>\n",
       "      <td>8</td>\n",
       "      <td>15</td>\n",
       "      <td>120</td>\n",
       "      <td>6</td>\n",
       "      <td>720</td>\n",
       "      <td>400</td>\n",
       "      <td>288120</td>\n",
       "    </tr>\n",
       "    <tr>\n",
       "      <th>65532</th>\n",
       "      <td>65533</td>\n",
       "      <td>Sabtu</td>\n",
       "      <td>10</td>\n",
       "      <td>15</td>\n",
       "      <td>150</td>\n",
       "      <td>7</td>\n",
       "      <td>1050</td>\n",
       "      <td>400</td>\n",
       "      <td>420150</td>\n",
       "    </tr>\n",
       "    <tr>\n",
       "      <th>65533</th>\n",
       "      <td>65534</td>\n",
       "      <td>Minggu</td>\n",
       "      <td>15</td>\n",
       "      <td>20</td>\n",
       "      <td>300</td>\n",
       "      <td>8</td>\n",
       "      <td>2400</td>\n",
       "      <td>400</td>\n",
       "      <td>960300</td>\n",
       "    </tr>\n",
       "    <tr>\n",
       "      <th>65534</th>\n",
       "      <td>65535</td>\n",
       "      <td>Senin</td>\n",
       "      <td>21</td>\n",
       "      <td>15</td>\n",
       "      <td>315</td>\n",
       "      <td>8</td>\n",
       "      <td>2520</td>\n",
       "      <td>400</td>\n",
       "      <td>1008315</td>\n",
       "    </tr>\n",
       "  </tbody>\n",
       "</table>\n",
       "<p>65535 rows × 9 columns</p>\n",
       "</div>"
      ],
      "text/plain": [
       "        No.     Hari  Jumlah percobaan per analisa  \\\n",
       "0          1   Senin                            21   \n",
       "1          2  Selasa                            15   \n",
       "2          3   Rabu                             29   \n",
       "3          4  Kamis                             15   \n",
       "4          5  Jum'at                            14   \n",
       "...      ...     ...                           ...   \n",
       "65530  65531  Kamis                             21   \n",
       "65531  65532  Jum'at                             8   \n",
       "65532  65533   Sabtu                            10   \n",
       "65533  65534  Minggu                            15   \n",
       "65534  65535   Senin                            21   \n",
       "\n",
       "       Biaya per percobaan (Rp/percobaan)  Biaya total analisa (Rp)  \\\n",
       "0                                      15                       315   \n",
       "1                                      15                       225   \n",
       "2                                      15                       435   \n",
       "3                                      15                       225   \n",
       "4                                      15                       210   \n",
       "...                                   ...                       ...   \n",
       "65530                                  15                       315   \n",
       "65531                                  15                       120   \n",
       "65532                                  15                       150   \n",
       "65533                                  20                       300   \n",
       "65534                                  15                       315   \n",
       "\n",
       "       Lama per percobaan(jam)  Lama total analisa (jam)  \\\n",
       "0                            6                      1890   \n",
       "1                            6                      1350   \n",
       "2                            5                      2175   \n",
       "3                            5                      1125   \n",
       "4                            5                      1050   \n",
       "...                        ...                       ...   \n",
       "65530                        5                      1575   \n",
       "65531                        6                       720   \n",
       "65532                        7                      1050   \n",
       "65533                        8                      2400   \n",
       "65534                        8                      2520   \n",
       "\n",
       "       Kriteria biaya akibat penghentian alat (Rp/jam)  Total Biaya (Rp)  \n",
       "0                                                  400            756315  \n",
       "1                                                  400            540225  \n",
       "2                                                  400            870435  \n",
       "3                                                  400            450225  \n",
       "4                                                  400            420210  \n",
       "...                                                ...               ...  \n",
       "65530                                              400            630315  \n",
       "65531                                              400            288120  \n",
       "65532                                              400            420150  \n",
       "65533                                              400            960300  \n",
       "65534                                              400           1008315  \n",
       "\n",
       "[65535 rows x 9 columns]"
      ]
     },
     "execution_count": 4,
     "metadata": {},
     "output_type": "execute_result"
    }
   ],
   "source": [
    "df_a"
   ]
  },
  {
   "cell_type": "code",
   "execution_count": 5,
   "metadata": {},
   "outputs": [
    {
     "data": {
      "text/plain": [
       "(65535, 9)"
      ]
     },
     "execution_count": 5,
     "metadata": {},
     "output_type": "execute_result"
    }
   ],
   "source": [
    "df_a.shape"
   ]
  },
  {
   "cell_type": "code",
   "execution_count": 6,
   "metadata": {
    "scrolled": false
   },
   "outputs": [
    {
     "name": "stdout",
     "output_type": "stream",
     "text": [
      "<class 'pandas.core.frame.DataFrame'>\n",
      "RangeIndex: 65535 entries, 0 to 65534\n",
      "Data columns (total 9 columns):\n",
      " #   Column                                           Non-Null Count  Dtype \n",
      "---  ------                                           --------------  ----- \n",
      " 0   No.                                              65535 non-null  int64 \n",
      " 1   Hari                                             65535 non-null  object\n",
      " 2   Jumlah percobaan per analisa                     65535 non-null  int64 \n",
      " 3   Biaya per percobaan (Rp/percobaan)               65535 non-null  int64 \n",
      " 4   Biaya total analisa (Rp)                         65535 non-null  int64 \n",
      " 5   Lama per percobaan(jam)                          65535 non-null  int64 \n",
      " 6   Lama total analisa (jam)                         65535 non-null  int64 \n",
      " 7   Kriteria biaya akibat penghentian alat (Rp/jam)  65535 non-null  int64 \n",
      " 8   Total Biaya (Rp)                                 65535 non-null  int64 \n",
      "dtypes: int64(8), object(1)\n",
      "memory usage: 4.5+ MB\n"
     ]
    }
   ],
   "source": [
    "df_a.info()"
   ]
  },
  {
   "cell_type": "code",
   "execution_count": 7,
   "metadata": {
    "scrolled": true
   },
   "outputs": [
    {
     "data": {
      "text/plain": [
       "No.                                                0\n",
       "Hari                                               0\n",
       "Jumlah percobaan per analisa                       0\n",
       "Biaya per percobaan (Rp/percobaan)                 0\n",
       "Biaya total analisa (Rp)                           0\n",
       "Lama per percobaan(jam)                            0\n",
       "Lama total analisa (jam)                           0\n",
       "Kriteria biaya akibat penghentian alat (Rp/jam)    0\n",
       "Total Biaya (Rp)                                   0\n",
       "dtype: int64"
      ]
     },
     "execution_count": 7,
     "metadata": {},
     "output_type": "execute_result"
    }
   ],
   "source": [
    "df_a.isna().sum()"
   ]
  },
  {
   "cell_type": "markdown",
   "metadata": {},
   "source": [
    "### Deskripsi Kolom\n",
    "\n",
    "- No. → penomoran data\n",
    "- Hari → hari dilakukannya analisa limbah\n",
    "- Jumlah percobaan per analisa → jumlah percobaan yang dilakukan per analisa\n",
    "- Biaya per percobaan (Rp/percobaan) → biaya yang perlu dikeluarkan per percobaan analisa\n",
    "- Biaya total analisa → hasil perkalian antara jumlah percobaan per analisa dan biaya per percobaan \n",
    "- Lama per percobaan (jam) → waktu yang dibutuhkan untuk melakukan percobaan\n",
    "- Lama total analisa (jam) → total waktu yang dibutuhkan untuk melakukan keseluruhan analisa dari percobaan\n",
    "- Kriteria biaya akibat penghentian alat (Rp/jam) → biaya untuk menganalisa\n",
    "- Total Biaya (Rp) → biaya yang dibutuhkan untuk melakukan keseluruhan analisa dan percobaan (hasil dari lama total analisa dikali kriteria biaya ditambah biaya total analisa)"
   ]
  },
  {
   "cell_type": "markdown",
   "metadata": {},
   "source": [
    "### Statistik"
   ]
  },
  {
   "cell_type": "code",
   "execution_count": 8,
   "metadata": {
    "scrolled": true
   },
   "outputs": [],
   "source": [
    "df_a = df_a.drop(columns=['No. '])"
   ]
  },
  {
   "cell_type": "code",
   "execution_count": 9,
   "metadata": {
    "scrolled": true
   },
   "outputs": [
    {
     "data": {
      "text/html": [
       "<div>\n",
       "<style scoped>\n",
       "    .dataframe tbody tr th:only-of-type {\n",
       "        vertical-align: middle;\n",
       "    }\n",
       "\n",
       "    .dataframe tbody tr th {\n",
       "        vertical-align: top;\n",
       "    }\n",
       "\n",
       "    .dataframe thead th {\n",
       "        text-align: right;\n",
       "    }\n",
       "</style>\n",
       "<table border=\"1\" class=\"dataframe\">\n",
       "  <thead>\n",
       "    <tr style=\"text-align: right;\">\n",
       "      <th></th>\n",
       "      <th>Jumlah percobaan per analisa</th>\n",
       "      <th>Biaya per percobaan (Rp/percobaan)</th>\n",
       "      <th>Biaya total analisa (Rp)</th>\n",
       "      <th>Lama per percobaan(jam)</th>\n",
       "      <th>Lama total analisa (jam)</th>\n",
       "      <th>Kriteria biaya akibat penghentian alat (Rp/jam)</th>\n",
       "      <th>Total Biaya (Rp)</th>\n",
       "    </tr>\n",
       "  </thead>\n",
       "  <tbody>\n",
       "    <tr>\n",
       "      <th>count</th>\n",
       "      <td>65535.000000</td>\n",
       "      <td>65535.000000</td>\n",
       "      <td>65535.000000</td>\n",
       "      <td>65535.000000</td>\n",
       "      <td>65535.000000</td>\n",
       "      <td>65535.000000</td>\n",
       "      <td>6.553500e+04</td>\n",
       "    </tr>\n",
       "    <tr>\n",
       "      <th>mean</th>\n",
       "      <td>15.434745</td>\n",
       "      <td>15.714275</td>\n",
       "      <td>242.585794</td>\n",
       "      <td>5.512963</td>\n",
       "      <td>1337.419089</td>\n",
       "      <td>447.553216</td>\n",
       "      <td>5.739609e+05</td>\n",
       "    </tr>\n",
       "    <tr>\n",
       "      <th>std</th>\n",
       "      <td>8.667166</td>\n",
       "      <td>1.749638</td>\n",
       "      <td>139.770529</td>\n",
       "      <td>1.708709</td>\n",
       "      <td>907.741043</td>\n",
       "      <td>85.143675</td>\n",
       "      <td>3.621901e+05</td>\n",
       "    </tr>\n",
       "    <tr>\n",
       "      <th>min</th>\n",
       "      <td>1.000000</td>\n",
       "      <td>15.000000</td>\n",
       "      <td>15.000000</td>\n",
       "      <td>3.000000</td>\n",
       "      <td>45.000000</td>\n",
       "      <td>400.000000</td>\n",
       "      <td>1.801500e+04</td>\n",
       "    </tr>\n",
       "    <tr>\n",
       "      <th>25%</th>\n",
       "      <td>8.000000</td>\n",
       "      <td>15.000000</td>\n",
       "      <td>120.000000</td>\n",
       "      <td>4.000000</td>\n",
       "      <td>600.000000</td>\n",
       "      <td>400.000000</td>\n",
       "      <td>2.801000e+05</td>\n",
       "    </tr>\n",
       "    <tr>\n",
       "      <th>50%</th>\n",
       "      <td>15.000000</td>\n",
       "      <td>15.000000</td>\n",
       "      <td>240.000000</td>\n",
       "      <td>6.000000</td>\n",
       "      <td>1200.000000</td>\n",
       "      <td>400.000000</td>\n",
       "      <td>5.402250e+05</td>\n",
       "    </tr>\n",
       "    <tr>\n",
       "      <th>75%</th>\n",
       "      <td>23.000000</td>\n",
       "      <td>15.000000</td>\n",
       "      <td>360.000000</td>\n",
       "      <td>7.000000</td>\n",
       "      <td>1890.000000</td>\n",
       "      <td>400.000000</td>\n",
       "      <td>8.162550e+05</td>\n",
       "    </tr>\n",
       "    <tr>\n",
       "      <th>max</th>\n",
       "      <td>30.000000</td>\n",
       "      <td>20.000000</td>\n",
       "      <td>600.000000</td>\n",
       "      <td>8.000000</td>\n",
       "      <td>4800.000000</td>\n",
       "      <td>600.000000</td>\n",
       "      <td>1.920600e+06</td>\n",
       "    </tr>\n",
       "  </tbody>\n",
       "</table>\n",
       "</div>"
      ],
      "text/plain": [
       "       Jumlah percobaan per analisa  Biaya per percobaan (Rp/percobaan)  \\\n",
       "count                  65535.000000                        65535.000000   \n",
       "mean                      15.434745                           15.714275   \n",
       "std                        8.667166                            1.749638   \n",
       "min                        1.000000                           15.000000   \n",
       "25%                        8.000000                           15.000000   \n",
       "50%                       15.000000                           15.000000   \n",
       "75%                       23.000000                           15.000000   \n",
       "max                       30.000000                           20.000000   \n",
       "\n",
       "       Biaya total analisa (Rp)  Lama per percobaan(jam)  \\\n",
       "count              65535.000000             65535.000000   \n",
       "mean                 242.585794                 5.512963   \n",
       "std                  139.770529                 1.708709   \n",
       "min                   15.000000                 3.000000   \n",
       "25%                  120.000000                 4.000000   \n",
       "50%                  240.000000                 6.000000   \n",
       "75%                  360.000000                 7.000000   \n",
       "max                  600.000000                 8.000000   \n",
       "\n",
       "       Lama total analisa (jam)  \\\n",
       "count              65535.000000   \n",
       "mean                1337.419089   \n",
       "std                  907.741043   \n",
       "min                   45.000000   \n",
       "25%                  600.000000   \n",
       "50%                 1200.000000   \n",
       "75%                 1890.000000   \n",
       "max                 4800.000000   \n",
       "\n",
       "       Kriteria biaya akibat penghentian alat (Rp/jam)  Total Biaya (Rp)  \n",
       "count                                     65535.000000      6.553500e+04  \n",
       "mean                                        447.553216      5.739609e+05  \n",
       "std                                          85.143675      3.621901e+05  \n",
       "min                                         400.000000      1.801500e+04  \n",
       "25%                                         400.000000      2.801000e+05  \n",
       "50%                                         400.000000      5.402250e+05  \n",
       "75%                                         400.000000      8.162550e+05  \n",
       "max                                         600.000000      1.920600e+06  "
      ]
     },
     "execution_count": 9,
     "metadata": {},
     "output_type": "execute_result"
    }
   ],
   "source": [
    "df_a.describe()"
   ]
  },
  {
   "cell_type": "code",
   "execution_count": 10,
   "metadata": {
    "scrolled": false
   },
   "outputs": [
    {
     "data": {
      "text/plain": [
       "Jumlah percobaan per analisa                            3.0\n",
       "Biaya per percobaan (Rp/percobaan)                     15.0\n",
       "Biaya total analisa (Rp)                               60.0\n",
       "Lama per percobaan(jam)                                 3.0\n",
       "Lama total analisa (jam)                              270.0\n",
       "Kriteria biaya akibat penghentian alat (Rp/jam)       400.0\n",
       "Total Biaya (Rp)                                   120060.0\n",
       "Name: 0.1, dtype: float64"
      ]
     },
     "execution_count": 10,
     "metadata": {},
     "output_type": "execute_result"
    }
   ],
   "source": [
    "df_a.quantile(0.1)"
   ]
  },
  {
   "cell_type": "code",
   "execution_count": 11,
   "metadata": {},
   "outputs": [
    {
     "data": {
      "text/plain": [
       "Jumlah percobaan per analisa                            27.0\n",
       "Biaya per percobaan (Rp/percobaan)                      20.0\n",
       "Biaya total analisa (Rp)                               435.0\n",
       "Lama per percobaan(jam)                                  8.0\n",
       "Lama total analisa (jam)                              2640.0\n",
       "Kriteria biaya akibat penghentian alat (Rp/jam)        600.0\n",
       "Total Biaya (Rp)                                   1080450.0\n",
       "Name: 0.9, dtype: float64"
      ]
     },
     "execution_count": 11,
     "metadata": {},
     "output_type": "execute_result"
    }
   ],
   "source": [
    "df_a.quantile(0.9)"
   ]
  },
  {
   "cell_type": "markdown",
   "metadata": {},
   "source": [
    "### Visualisasi Data"
   ]
  },
  {
   "cell_type": "code",
   "execution_count": 12,
   "metadata": {
    "scrolled": true
   },
   "outputs": [
    {
     "data": {
      "text/plain": [
       "Hari\n",
       "Jum'at    15.453856\n",
       "Kamis     15.459731\n",
       "Minggu    15.490707\n",
       "Rabu      15.489212\n",
       "Sabtu     15.439116\n",
       "Selasa    15.409207\n",
       "Senin     15.301399\n",
       "Name: Jumlah percobaan per analisa, dtype: float64"
      ]
     },
     "execution_count": 12,
     "metadata": {},
     "output_type": "execute_result"
    }
   ],
   "source": [
    "rata2_perhari_a = df_a.groupby('Hari')['Jumlah percobaan per analisa'].mean()\n",
    "rata2_perhari_a"
   ]
  },
  {
   "cell_type": "code",
   "execution_count": 13,
   "metadata": {
    "scrolled": false
   },
   "outputs": [
    {
     "data": {
      "image/png": "[encoded data removed]",
      "text/plain": [
       "<Figure size 576x396 with 1 Axes>"
      ]
     },
     "metadata": {},
     "output_type": "display_data"
    }
   ],
   "source": [
    "df_a.groupby('Hari')['Jumlah percobaan per analisa'].mean().plot(kind='bar', color='cornflowerblue')\n",
    "plt.title('Rata-rata Jumlah Percobaan per Hari')\n",
    "plt.xticks(rotation=0)\n",
    "\n",
    "for i, j in enumerate(df_a.groupby('Hari')['Jumlah percobaan per analisa'].mean()):\n",
    "    plt.text(i, j+0.5, str(round(j,2)), ha=\"center\")\n",
    "\n",
    "ax = plt.axes()\n",
    "ax.set_ylim([0,17])\n",
    "plt.show()"
   ]
  },
  {
   "cell_type": "code",
   "execution_count": 14,
   "metadata": {
    "scrolled": true
   },
   "outputs": [
    {
     "data": {
      "text/plain": [
       "Hari\n",
       "Jum'at    1279.329203\n",
       "Kamis     1285.231788\n",
       "Minggu    1707.744072\n",
       "Rabu      1267.206793\n",
       "Sabtu     1285.061953\n",
       "Selasa    1274.645909\n",
       "Senin     1262.721884\n",
       "Name: Lama total analisa (jam), dtype: float64"
      ]
     },
     "execution_count": 14,
     "metadata": {},
     "output_type": "execute_result"
    }
   ],
   "source": [
    "rata2_lama_analisa_a = df_a.groupby('Hari')['Lama total analisa (jam)'].mean()\n",
    "rata2_lama_analisa_a"
   ]
  },
  {
   "cell_type": "code",
   "execution_count": 15,
   "metadata": {},
   "outputs": [
    {
     "data": {
      "image/png": "[encoded data removed]",
      "text/plain": [
       "<Figure size 576x396 with 1 Axes>"
      ]
     },
     "metadata": {},
     "output_type": "display_data"
    }
   ],
   "source": [
    "df_a.groupby('Hari')['Lama total analisa (jam)'].mean().plot(kind='bar', color='darksalmon')\n",
    "plt.title('Rata-rata Lama Analisa per Hari')\n",
    "plt.xticks(rotation=0)\n",
    "\n",
    "for i, j in enumerate(df_a.groupby('Hari')['Lama total analisa (jam)'].mean()):\n",
    "    plt.text(i, j+20, str(round(j,2)), ha='center')\n",
    "plt.show()"
   ]
  },
  {
   "cell_type": "code",
   "execution_count": 16,
   "metadata": {
    "scrolled": true
   },
   "outputs": [
    {
     "data": {
      "image/png": "[encoded data removed]",
      "text/plain": [
       "<Figure size 576x396 with 1 Axes>"
      ]
     },
     "metadata": {},
     "output_type": "display_data"
    }
   ],
   "source": [
    "# liat kecenderungan dari total biayanya \n",
    "plt.hist(df_a['Total Biaya (Rp)'], color='darkseagreen')\n",
    "plt.title('Grafik Total Biaya')\n",
    "plt.axvline(df_a['Total Biaya (Rp)'].median(),color='yellow')\n",
    "plt.axvline(df_a['Total Biaya (Rp)'].mean(),color='black')\n",
    "plt.show()"
   ]
  },
  {
   "cell_type": "code",
   "execution_count": 17,
   "metadata": {},
   "outputs": [
    {
     "data": {
      "text/plain": [
       "573960.8737315938"
      ]
     },
     "execution_count": 17,
     "metadata": {},
     "output_type": "execute_result"
    }
   ],
   "source": [
    "df_a['Total Biaya (Rp)'].mean()"
   ]
  },
  {
   "cell_type": "markdown",
   "metadata": {},
   "source": [
    "### Correlation"
   ]
  },
  {
   "cell_type": "code",
   "execution_count": 18,
   "metadata": {
    "scrolled": false
   },
   "outputs": [
    {
     "data": {
      "text/html": [
       "<div>\n",
       "<style scoped>\n",
       "    .dataframe tbody tr th:only-of-type {\n",
       "        vertical-align: middle;\n",
       "    }\n",
       "\n",
       "    .dataframe tbody tr th {\n",
       "        vertical-align: top;\n",
       "    }\n",
       "\n",
       "    .dataframe thead th {\n",
       "        text-align: right;\n",
       "    }\n",
       "</style>\n",
       "<table border=\"1\" class=\"dataframe\">\n",
       "  <thead>\n",
       "    <tr style=\"text-align: right;\">\n",
       "      <th></th>\n",
       "      <th>Jumlah percobaan per analisa</th>\n",
       "      <th>Biaya per percobaan (Rp/percobaan)</th>\n",
       "      <th>Biaya total analisa (Rp)</th>\n",
       "      <th>Lama per percobaan(jam)</th>\n",
       "      <th>Lama total analisa (jam)</th>\n",
       "      <th>Kriteria biaya akibat penghentian alat (Rp/jam)</th>\n",
       "      <th>Total Biaya (Rp)</th>\n",
       "    </tr>\n",
       "  </thead>\n",
       "  <tbody>\n",
       "    <tr>\n",
       "      <th>Jumlah percobaan per analisa</th>\n",
       "      <td>1.000000</td>\n",
       "      <td>0.002636</td>\n",
       "      <td>0.975017</td>\n",
       "      <td>0.000277</td>\n",
       "      <td>0.828203</td>\n",
       "      <td>0.004466</td>\n",
       "      <td>0.890948</td>\n",
       "    </tr>\n",
       "    <tr>\n",
       "      <th>Biaya per percobaan (Rp/percobaan)</th>\n",
       "      <td>0.002636</td>\n",
       "      <td>1.000000</td>\n",
       "      <td>0.196363</td>\n",
       "      <td>0.000578</td>\n",
       "      <td>0.166550</td>\n",
       "      <td>-0.228009</td>\n",
       "      <td>0.123364</td>\n",
       "    </tr>\n",
       "    <tr>\n",
       "      <th>Biaya total analisa (Rp)</th>\n",
       "      <td>0.975017</td>\n",
       "      <td>0.196363</td>\n",
       "      <td>1.000000</td>\n",
       "      <td>0.000221</td>\n",
       "      <td>0.849193</td>\n",
       "      <td>-0.040060</td>\n",
       "      <td>0.899318</td>\n",
       "    </tr>\n",
       "    <tr>\n",
       "      <th>Lama per percobaan(jam)</th>\n",
       "      <td>0.000277</td>\n",
       "      <td>0.000578</td>\n",
       "      <td>0.000221</td>\n",
       "      <td>1.000000</td>\n",
       "      <td>0.458102</td>\n",
       "      <td>-0.656768</td>\n",
       "      <td>0.337923</td>\n",
       "    </tr>\n",
       "    <tr>\n",
       "      <th>Lama total analisa (jam)</th>\n",
       "      <td>0.828203</td>\n",
       "      <td>0.166550</td>\n",
       "      <td>0.849193</td>\n",
       "      <td>0.458102</td>\n",
       "      <td>1.000000</td>\n",
       "      <td>-0.321501</td>\n",
       "      <td>0.973594</td>\n",
       "    </tr>\n",
       "    <tr>\n",
       "      <th>Kriteria biaya akibat penghentian alat (Rp/jam)</th>\n",
       "      <td>0.004466</td>\n",
       "      <td>-0.228009</td>\n",
       "      <td>-0.040060</td>\n",
       "      <td>-0.656768</td>\n",
       "      <td>-0.321501</td>\n",
       "      <td>1.000000</td>\n",
       "      <td>-0.130757</td>\n",
       "    </tr>\n",
       "    <tr>\n",
       "      <th>Total Biaya (Rp)</th>\n",
       "      <td>0.890948</td>\n",
       "      <td>0.123364</td>\n",
       "      <td>0.899318</td>\n",
       "      <td>0.337923</td>\n",
       "      <td>0.973594</td>\n",
       "      <td>-0.130757</td>\n",
       "      <td>1.000000</td>\n",
       "    </tr>\n",
       "  </tbody>\n",
       "</table>\n",
       "</div>"
      ],
      "text/plain": [
       "                                                 Jumlah percobaan per analisa  \\\n",
       "Jumlah percobaan per analisa                                         1.000000   \n",
       "Biaya per percobaan (Rp/percobaan)                                   0.002636   \n",
       "Biaya total analisa (Rp)                                             0.975017   \n",
       "Lama per percobaan(jam)                                              0.000277   \n",
       "Lama total analisa (jam)                                             0.828203   \n",
       "Kriteria biaya akibat penghentian alat (Rp/jam)                      0.004466   \n",
       "Total Biaya (Rp)                                                     0.890948   \n",
       "\n",
       "                                                 Biaya per percobaan (Rp/percobaan)  \\\n",
       "Jumlah percobaan per analisa                                               0.002636   \n",
       "Biaya per percobaan (Rp/percobaan)                                         1.000000   \n",
       "Biaya total analisa (Rp)                                                   0.196363   \n",
       "Lama per percobaan(jam)                                                    0.000578   \n",
       "Lama total analisa (jam)                                                   0.166550   \n",
       "Kriteria biaya akibat penghentian alat (Rp/jam)                           -0.228009   \n",
       "Total Biaya (Rp)                                                           0.123364   \n",
       "\n",
       "                                                 Biaya total analisa (Rp)  \\\n",
       "Jumlah percobaan per analisa                                     0.975017   \n",
       "Biaya per percobaan (Rp/percobaan)                               0.196363   \n",
       "Biaya total analisa (Rp)                                         1.000000   \n",
       "Lama per percobaan(jam)                                          0.000221   \n",
       "Lama total analisa (jam)                                         0.849193   \n",
       "Kriteria biaya akibat penghentian alat (Rp/jam)                 -0.040060   \n",
       "Total Biaya (Rp)                                                 0.899318   \n",
       "\n",
       "                                                 Lama per percobaan(jam)  \\\n",
       "Jumlah percobaan per analisa                                    0.000277   \n",
       "Biaya per percobaan (Rp/percobaan)                              0.000578   \n",
       "Biaya total analisa (Rp)                                        0.000221   \n",
       "Lama per percobaan(jam)                                         1.000000   \n",
       "Lama total analisa (jam)                                        0.458102   \n",
       "Kriteria biaya akibat penghentian alat (Rp/jam)                -0.656768   \n",
       "Total Biaya (Rp)                                                0.337923   \n",
       "\n",
       "                                                 Lama total analisa (jam)  \\\n",
       "Jumlah percobaan per analisa                                     0.828203   \n",
       "Biaya per percobaan (Rp/percobaan)                               0.166550   \n",
       "Biaya total analisa (Rp)                                         0.849193   \n",
       "Lama per percobaan(jam)                                          0.458102   \n",
       "Lama total analisa (jam)                                         1.000000   \n",
       "Kriteria biaya akibat penghentian alat (Rp/jam)                 -0.321501   \n",
       "Total Biaya (Rp)                                                 0.973594   \n",
       "\n",
       "                                                 Kriteria biaya akibat penghentian alat (Rp/jam)  \\\n",
       "Jumlah percobaan per analisa                                                            0.004466   \n",
       "Biaya per percobaan (Rp/percobaan)                                                     -0.228009   \n",
       "Biaya total analisa (Rp)                                                               -0.040060   \n",
       "Lama per percobaan(jam)                                                                -0.656768   \n",
       "Lama total analisa (jam)                                                               -0.321501   \n",
       "Kriteria biaya akibat penghentian alat (Rp/jam)                                         1.000000   \n",
       "Total Biaya (Rp)                                                                       -0.130757   \n",
       "\n",
       "                                                 Total Biaya (Rp)  \n",
       "Jumlah percobaan per analisa                             0.890948  \n",
       "Biaya per percobaan (Rp/percobaan)                       0.123364  \n",
       "Biaya total analisa (Rp)                                 0.899318  \n",
       "Lama per percobaan(jam)                                  0.337923  \n",
       "Lama total analisa (jam)                                 0.973594  \n",
       "Kriteria biaya akibat penghentian alat (Rp/jam)         -0.130757  \n",
       "Total Biaya (Rp)                                         1.000000  "
      ]
     },
     "execution_count": 18,
     "metadata": {},
     "output_type": "execute_result"
    }
   ],
   "source": [
    "corrMatrixA = df_a.corr()\n",
    "corrMatrixA"
   ]
  },
  {
   "cell_type": "code",
   "execution_count": 19,
   "metadata": {},
   "outputs": [
    {
     "data": {
      "image/png": "[encoded data removed]",
      "text/plain": [
       "<Figure size 576x396 with 2 Axes>"
      ]
     },
     "metadata": {},
     "output_type": "display_data"
    }
   ],
   "source": [
    "sns.heatmap(corrMatrixA, annot=True)\n",
    "plt.show()"
   ]
  },
  {
   "cell_type": "code",
   "execution_count": 48,
   "metadata": {
    "scrolled": true
   },
   "outputs": [
    {
     "name": "stdout",
     "output_type": "stream",
     "text": [
      "Koefisien korelasi :  0.9750172572852096 \n",
      "Dengan scatter plot:\n"
     ]
    },
    {
     "data": {
      "image/png": "[encoded data removed]",
      "text/plain": [
       "<Figure size 576x396 with 1 Axes>"
      ]
     },
     "metadata": {},
     "output_type": "display_data"
    }
   ],
   "source": [
    "print('Koefisien korelasi : ', df_a['Jumlah percobaan per analisa'].corr(df_a['Biaya total analisa (Rp)']), '\\nDengan scatter plot:')\n",
    "df_a.plot(kind='scatter', x='Jumlah percobaan per analisa', y ='Biaya total analisa (Rp)',\n",
    "          title='Korelasi antara Jumlah percobaan per analisa dan Biaya total analisa (Rp)', color='tomato')\n",
    "plt.show()"
   ]
  },
  {
   "cell_type": "code",
   "execution_count": 81,
   "metadata": {
    "scrolled": true
   },
   "outputs": [
    {
     "name": "stdout",
     "output_type": "stream",
     "text": [
      "\n",
      "Koefisien korelasi :  0.4581016342438511 \n",
      "Dengan scatter plot:\n"
     ]
    },
    {
     "data": {
      "image/png": "[encoded data removed]",
      "text/plain": [
       "<Figure size 576x396 with 1 Axes>"
      ]
     },
     "metadata": {},
     "output_type": "display_data"
    }
   ],
   "source": [
    "print('\\nKoefisien korelasi : ', df_a['Lama total analisa (jam)'].corr(df_a['Lama per percobaan(jam)']), '\\nDengan scatter plot:')\n",
    "df_a.plot(kind='scatter', x='Lama total analisa (jam)', y ='Lama per percobaan(jam)',\n",
    "          title='Korelasi antara Lama total analisa dan Lama per percobaan', color='tomato')\n",
    "plt.show()"
   ]
  },
  {
   "cell_type": "code",
   "execution_count": 82,
   "metadata": {},
   "outputs": [
    {
     "name": "stdout",
     "output_type": "stream",
     "text": [
      "\n",
      "Koefisien korelasi :  0.9735939880921403 \n",
      "Dengan scatter plot:\n"
     ]
    },
    {
     "data": {
      "image/png": "[encoded data removed]",
      "text/plain": [
       "<Figure size 576x396 with 1 Axes>"
      ]
     },
     "metadata": {},
     "output_type": "display_data"
    }
   ],
   "source": [
    "print('\\nKoefisien korelasi : ', df_a['Lama total analisa (jam)'].corr(df_a['Total Biaya (Rp)']), '\\nDengan scatter plot:')\n",
    "df_a.plot(kind='scatter', x='Lama total analisa (jam)', y ='Total Biaya (Rp)', \n",
    "          title='Korelasi antara Lama total analisa dan Total biaya', color='tomato')\n",
    "plt.show()"
   ]
  },
  {
   "cell_type": "markdown",
   "metadata": {},
   "source": [
    "## Import Dataset B\n",
    "Sheet 2 - Data Perusahaan B"
   ]
  },
  {
   "cell_type": "code",
   "execution_count": 50,
   "metadata": {
    "scrolled": true
   },
   "outputs": [],
   "source": [
    "df_b = pd.read_excel('File data tugas besar 2.xls', 'Perusahaan B data')"
   ]
  },
  {
   "cell_type": "code",
   "execution_count": 51,
   "metadata": {},
   "outputs": [
    {
     "data": {
      "text/html": [
       "<div>\n",
       "<style scoped>\n",
       "    .dataframe tbody tr th:only-of-type {\n",
       "        vertical-align: middle;\n",
       "    }\n",
       "\n",
       "    .dataframe tbody tr th {\n",
       "        vertical-align: top;\n",
       "    }\n",
       "\n",
       "    .dataframe thead th {\n",
       "        text-align: right;\n",
       "    }\n",
       "</style>\n",
       "<table border=\"1\" class=\"dataframe\">\n",
       "  <thead>\n",
       "    <tr style=\"text-align: right;\">\n",
       "      <th></th>\n",
       "      <th>No.</th>\n",
       "      <th>Hari</th>\n",
       "      <th>Jumlah percobaan per analisa</th>\n",
       "      <th>Biaya per percobaan (Rp/percobaan)</th>\n",
       "      <th>Biaya total analisa (Rp)</th>\n",
       "      <th>Lama per percobaan(jam)</th>\n",
       "      <th>Lama total analisa (jam)</th>\n",
       "      <th>Kriteria biaya akibat penghentian alat (Rp/jam)</th>\n",
       "      <th>Total Biaya (Rp)</th>\n",
       "    </tr>\n",
       "  </thead>\n",
       "  <tbody>\n",
       "    <tr>\n",
       "      <th>0</th>\n",
       "      <td>1</td>\n",
       "      <td>Senin</td>\n",
       "      <td>8</td>\n",
       "      <td>15</td>\n",
       "      <td>120</td>\n",
       "      <td>7</td>\n",
       "      <td>840</td>\n",
       "      <td>400</td>\n",
       "      <td>336120</td>\n",
       "    </tr>\n",
       "    <tr>\n",
       "      <th>1</th>\n",
       "      <td>2</td>\n",
       "      <td>Selasa</td>\n",
       "      <td>10</td>\n",
       "      <td>15</td>\n",
       "      <td>150</td>\n",
       "      <td>8</td>\n",
       "      <td>1200</td>\n",
       "      <td>400</td>\n",
       "      <td>480150</td>\n",
       "    </tr>\n",
       "    <tr>\n",
       "      <th>2</th>\n",
       "      <td>3</td>\n",
       "      <td>Rabu</td>\n",
       "      <td>13</td>\n",
       "      <td>15</td>\n",
       "      <td>195</td>\n",
       "      <td>5</td>\n",
       "      <td>975</td>\n",
       "      <td>400</td>\n",
       "      <td>390195</td>\n",
       "    </tr>\n",
       "    <tr>\n",
       "      <th>3</th>\n",
       "      <td>4</td>\n",
       "      <td>Kamis</td>\n",
       "      <td>10</td>\n",
       "      <td>15</td>\n",
       "      <td>150</td>\n",
       "      <td>6</td>\n",
       "      <td>900</td>\n",
       "      <td>400</td>\n",
       "      <td>360150</td>\n",
       "    </tr>\n",
       "    <tr>\n",
       "      <th>4</th>\n",
       "      <td>5</td>\n",
       "      <td>Jum'at</td>\n",
       "      <td>5</td>\n",
       "      <td>15</td>\n",
       "      <td>75</td>\n",
       "      <td>8</td>\n",
       "      <td>600</td>\n",
       "      <td>400</td>\n",
       "      <td>240075</td>\n",
       "    </tr>\n",
       "    <tr>\n",
       "      <th>...</th>\n",
       "      <td>...</td>\n",
       "      <td>...</td>\n",
       "      <td>...</td>\n",
       "      <td>...</td>\n",
       "      <td>...</td>\n",
       "      <td>...</td>\n",
       "      <td>...</td>\n",
       "      <td>...</td>\n",
       "      <td>...</td>\n",
       "    </tr>\n",
       "    <tr>\n",
       "      <th>65530</th>\n",
       "      <td>65531</td>\n",
       "      <td>Kamis</td>\n",
       "      <td>26</td>\n",
       "      <td>15</td>\n",
       "      <td>390</td>\n",
       "      <td>4</td>\n",
       "      <td>1560</td>\n",
       "      <td>600</td>\n",
       "      <td>936390</td>\n",
       "    </tr>\n",
       "    <tr>\n",
       "      <th>65531</th>\n",
       "      <td>65532</td>\n",
       "      <td>Jum'at</td>\n",
       "      <td>10</td>\n",
       "      <td>15</td>\n",
       "      <td>150</td>\n",
       "      <td>5</td>\n",
       "      <td>750</td>\n",
       "      <td>400</td>\n",
       "      <td>300150</td>\n",
       "    </tr>\n",
       "    <tr>\n",
       "      <th>65532</th>\n",
       "      <td>65533</td>\n",
       "      <td>Sabtu</td>\n",
       "      <td>22</td>\n",
       "      <td>15</td>\n",
       "      <td>330</td>\n",
       "      <td>7</td>\n",
       "      <td>2310</td>\n",
       "      <td>400</td>\n",
       "      <td>924330</td>\n",
       "    </tr>\n",
       "    <tr>\n",
       "      <th>65533</th>\n",
       "      <td>65534</td>\n",
       "      <td>Minggu</td>\n",
       "      <td>5</td>\n",
       "      <td>18</td>\n",
       "      <td>90</td>\n",
       "      <td>7</td>\n",
       "      <td>630</td>\n",
       "      <td>400</td>\n",
       "      <td>252090</td>\n",
       "    </tr>\n",
       "    <tr>\n",
       "      <th>65534</th>\n",
       "      <td>65535</td>\n",
       "      <td>Senin</td>\n",
       "      <td>29</td>\n",
       "      <td>15</td>\n",
       "      <td>435</td>\n",
       "      <td>7</td>\n",
       "      <td>3045</td>\n",
       "      <td>400</td>\n",
       "      <td>1218435</td>\n",
       "    </tr>\n",
       "  </tbody>\n",
       "</table>\n",
       "<p>65535 rows × 9 columns</p>\n",
       "</div>"
      ],
      "text/plain": [
       "        No.     Hari  Jumlah percobaan per analisa  \\\n",
       "0          1   Senin                             8   \n",
       "1          2  Selasa                            10   \n",
       "2          3   Rabu                             13   \n",
       "3          4  Kamis                             10   \n",
       "4          5  Jum'at                             5   \n",
       "...      ...     ...                           ...   \n",
       "65530  65531  Kamis                             26   \n",
       "65531  65532  Jum'at                            10   \n",
       "65532  65533   Sabtu                            22   \n",
       "65533  65534  Minggu                             5   \n",
       "65534  65535   Senin                            29   \n",
       "\n",
       "       Biaya per percobaan (Rp/percobaan)  Biaya total analisa (Rp)  \\\n",
       "0                                      15                       120   \n",
       "1                                      15                       150   \n",
       "2                                      15                       195   \n",
       "3                                      15                       150   \n",
       "4                                      15                        75   \n",
       "...                                   ...                       ...   \n",
       "65530                                  15                       390   \n",
       "65531                                  15                       150   \n",
       "65532                                  15                       330   \n",
       "65533                                  18                        90   \n",
       "65534                                  15                       435   \n",
       "\n",
       "       Lama per percobaan(jam)  Lama total analisa (jam)  \\\n",
       "0                            7                       840   \n",
       "1                            8                      1200   \n",
       "2                            5                       975   \n",
       "3                            6                       900   \n",
       "4                            8                       600   \n",
       "...                        ...                       ...   \n",
       "65530                        4                      1560   \n",
       "65531                        5                       750   \n",
       "65532                        7                      2310   \n",
       "65533                        7                       630   \n",
       "65534                        7                      3045   \n",
       "\n",
       "       Kriteria biaya akibat penghentian alat (Rp/jam)  Total Biaya (Rp)  \n",
       "0                                                  400            336120  \n",
       "1                                                  400            480150  \n",
       "2                                                  400            390195  \n",
       "3                                                  400            360150  \n",
       "4                                                  400            240075  \n",
       "...                                                ...               ...  \n",
       "65530                                              600            936390  \n",
       "65531                                              400            300150  \n",
       "65532                                              400            924330  \n",
       "65533                                              400            252090  \n",
       "65534                                              400           1218435  \n",
       "\n",
       "[65535 rows x 9 columns]"
      ]
     },
     "execution_count": 51,
     "metadata": {},
     "output_type": "execute_result"
    }
   ],
   "source": [
    "df_b"
   ]
  },
  {
   "cell_type": "code",
   "execution_count": 52,
   "metadata": {},
   "outputs": [
    {
     "data": {
      "text/plain": [
       "(65535, 9)"
      ]
     },
     "execution_count": 52,
     "metadata": {},
     "output_type": "execute_result"
    }
   ],
   "source": [
    "df_b.shape"
   ]
  },
  {
   "cell_type": "code",
   "execution_count": 53,
   "metadata": {},
   "outputs": [
    {
     "name": "stdout",
     "output_type": "stream",
     "text": [
      "<class 'pandas.core.frame.DataFrame'>\n",
      "RangeIndex: 65535 entries, 0 to 65534\n",
      "Data columns (total 9 columns):\n",
      " #   Column                                           Non-Null Count  Dtype \n",
      "---  ------                                           --------------  ----- \n",
      " 0   No.                                              65535 non-null  int64 \n",
      " 1   Hari                                             65535 non-null  object\n",
      " 2   Jumlah percobaan per analisa                     65535 non-null  int64 \n",
      " 3   Biaya per percobaan (Rp/percobaan)               65535 non-null  int64 \n",
      " 4   Biaya total analisa (Rp)                         65535 non-null  int64 \n",
      " 5   Lama per percobaan(jam)                          65535 non-null  int64 \n",
      " 6   Lama total analisa (jam)                         65535 non-null  int64 \n",
      " 7   Kriteria biaya akibat penghentian alat (Rp/jam)  65535 non-null  int64 \n",
      " 8   Total Biaya (Rp)                                 65535 non-null  int64 \n",
      "dtypes: int64(8), object(1)\n",
      "memory usage: 4.5+ MB\n"
     ]
    }
   ],
   "source": [
    "df_b.info()"
   ]
  },
  {
   "cell_type": "markdown",
   "metadata": {},
   "source": [
    "### check null values"
   ]
  },
  {
   "cell_type": "code",
   "execution_count": 54,
   "metadata": {
    "scrolled": true
   },
   "outputs": [
    {
     "data": {
      "text/plain": [
       "No.                                                0\n",
       "Hari                                               0\n",
       "Jumlah percobaan per analisa                       0\n",
       "Biaya per percobaan (Rp/percobaan)                 0\n",
       "Biaya total analisa (Rp)                           0\n",
       "Lama per percobaan(jam)                            0\n",
       "Lama total analisa (jam)                           0\n",
       "Kriteria biaya akibat penghentian alat (Rp/jam)    0\n",
       "Total Biaya (Rp)                                   0\n",
       "dtype: int64"
      ]
     },
     "execution_count": 54,
     "metadata": {},
     "output_type": "execute_result"
    }
   ],
   "source": [
    "df_b.isna().sum()"
   ]
  },
  {
   "cell_type": "markdown",
   "metadata": {},
   "source": [
    "### Statistics"
   ]
  },
  {
   "cell_type": "code",
   "execution_count": 55,
   "metadata": {},
   "outputs": [],
   "source": [
    "df_b = df_b.drop(columns=['No. '])"
   ]
  },
  {
   "cell_type": "code",
   "execution_count": 56,
   "metadata": {},
   "outputs": [
    {
     "data": {
      "text/html": [
       "<div>\n",
       "<style scoped>\n",
       "    .dataframe tbody tr th:only-of-type {\n",
       "        vertical-align: middle;\n",
       "    }\n",
       "\n",
       "    .dataframe tbody tr th {\n",
       "        vertical-align: top;\n",
       "    }\n",
       "\n",
       "    .dataframe thead th {\n",
       "        text-align: right;\n",
       "    }\n",
       "</style>\n",
       "<table border=\"1\" class=\"dataframe\">\n",
       "  <thead>\n",
       "    <tr style=\"text-align: right;\">\n",
       "      <th></th>\n",
       "      <th>Jumlah percobaan per analisa</th>\n",
       "      <th>Biaya per percobaan (Rp/percobaan)</th>\n",
       "      <th>Biaya total analisa (Rp)</th>\n",
       "      <th>Lama per percobaan(jam)</th>\n",
       "      <th>Lama total analisa (jam)</th>\n",
       "      <th>Kriteria biaya akibat penghentian alat (Rp/jam)</th>\n",
       "      <th>Total Biaya (Rp)</th>\n",
       "    </tr>\n",
       "  </thead>\n",
       "  <tbody>\n",
       "    <tr>\n",
       "      <th>count</th>\n",
       "      <td>65535.000000</td>\n",
       "      <td>65535.000000</td>\n",
       "      <td>65535.000000</td>\n",
       "      <td>65535.000000</td>\n",
       "      <td>65535.000000</td>\n",
       "      <td>65535.000000</td>\n",
       "      <td>6.553500e+04</td>\n",
       "    </tr>\n",
       "    <tr>\n",
       "      <th>mean</th>\n",
       "      <td>15.509651</td>\n",
       "      <td>15.428565</td>\n",
       "      <td>239.300984</td>\n",
       "      <td>6.001938</td>\n",
       "      <td>1436.602655</td>\n",
       "      <td>428.702220</td>\n",
       "      <td>6.015259e+05</td>\n",
       "    </tr>\n",
       "    <tr>\n",
       "      <th>std</th>\n",
       "      <td>8.659702</td>\n",
       "      <td>1.049783</td>\n",
       "      <td>134.898372</td>\n",
       "      <td>1.415501</td>\n",
       "      <td>898.338759</td>\n",
       "      <td>70.119196</td>\n",
       "      <td>3.610661e+05</td>\n",
       "    </tr>\n",
       "    <tr>\n",
       "      <th>min</th>\n",
       "      <td>1.000000</td>\n",
       "      <td>15.000000</td>\n",
       "      <td>15.000000</td>\n",
       "      <td>4.000000</td>\n",
       "      <td>60.000000</td>\n",
       "      <td>400.000000</td>\n",
       "      <td>2.401500e+04</td>\n",
       "    </tr>\n",
       "    <tr>\n",
       "      <th>25%</th>\n",
       "      <td>8.000000</td>\n",
       "      <td>15.000000</td>\n",
       "      <td>120.000000</td>\n",
       "      <td>5.000000</td>\n",
       "      <td>720.000000</td>\n",
       "      <td>400.000000</td>\n",
       "      <td>2.941050e+05</td>\n",
       "    </tr>\n",
       "    <tr>\n",
       "      <th>50%</th>\n",
       "      <td>16.000000</td>\n",
       "      <td>15.000000</td>\n",
       "      <td>240.000000</td>\n",
       "      <td>6.000000</td>\n",
       "      <td>1350.000000</td>\n",
       "      <td>400.000000</td>\n",
       "      <td>5.762400e+05</td>\n",
       "    </tr>\n",
       "    <tr>\n",
       "      <th>75%</th>\n",
       "      <td>23.000000</td>\n",
       "      <td>15.000000</td>\n",
       "      <td>360.000000</td>\n",
       "      <td>7.000000</td>\n",
       "      <td>2052.000000</td>\n",
       "      <td>400.000000</td>\n",
       "      <td>8.643600e+05</td>\n",
       "    </tr>\n",
       "    <tr>\n",
       "      <th>max</th>\n",
       "      <td>30.000000</td>\n",
       "      <td>18.000000</td>\n",
       "      <td>540.000000</td>\n",
       "      <td>8.000000</td>\n",
       "      <td>4320.000000</td>\n",
       "      <td>600.000000</td>\n",
       "      <td>1.728540e+06</td>\n",
       "    </tr>\n",
       "  </tbody>\n",
       "</table>\n",
       "</div>"
      ],
      "text/plain": [
       "       Jumlah percobaan per analisa  Biaya per percobaan (Rp/percobaan)  \\\n",
       "count                  65535.000000                        65535.000000   \n",
       "mean                      15.509651                           15.428565   \n",
       "std                        8.659702                            1.049783   \n",
       "min                        1.000000                           15.000000   \n",
       "25%                        8.000000                           15.000000   \n",
       "50%                       16.000000                           15.000000   \n",
       "75%                       23.000000                           15.000000   \n",
       "max                       30.000000                           18.000000   \n",
       "\n",
       "       Biaya total analisa (Rp)  Lama per percobaan(jam)  \\\n",
       "count              65535.000000             65535.000000   \n",
       "mean                 239.300984                 6.001938   \n",
       "std                  134.898372                 1.415501   \n",
       "min                   15.000000                 4.000000   \n",
       "25%                  120.000000                 5.000000   \n",
       "50%                  240.000000                 6.000000   \n",
       "75%                  360.000000                 7.000000   \n",
       "max                  540.000000                 8.000000   \n",
       "\n",
       "       Lama total analisa (jam)  \\\n",
       "count              65535.000000   \n",
       "mean                1436.602655   \n",
       "std                  898.338759   \n",
       "min                   60.000000   \n",
       "25%                  720.000000   \n",
       "50%                 1350.000000   \n",
       "75%                 2052.000000   \n",
       "max                 4320.000000   \n",
       "\n",
       "       Kriteria biaya akibat penghentian alat (Rp/jam)  Total Biaya (Rp)  \n",
       "count                                     65535.000000      6.553500e+04  \n",
       "mean                                        428.702220      6.015259e+05  \n",
       "std                                          70.119196      3.610661e+05  \n",
       "min                                         400.000000      2.401500e+04  \n",
       "25%                                         400.000000      2.941050e+05  \n",
       "50%                                         400.000000      5.762400e+05  \n",
       "75%                                         400.000000      8.643600e+05  \n",
       "max                                         600.000000      1.728540e+06  "
      ]
     },
     "execution_count": 56,
     "metadata": {},
     "output_type": "execute_result"
    }
   ],
   "source": [
    "df_b.describe()"
   ]
  },
  {
   "cell_type": "code",
   "execution_count": 57,
   "metadata": {},
   "outputs": [
    {
     "data": {
      "text/plain": [
       "Jumlah percobaan per analisa                            3.0\n",
       "Biaya per percobaan (Rp/percobaan)                     15.0\n",
       "Biaya total analisa (Rp)                               54.0\n",
       "Lama per percobaan(jam)                                 4.0\n",
       "Lama total analisa (jam)                              300.0\n",
       "Kriteria biaya akibat penghentian alat (Rp/jam)       400.0\n",
       "Total Biaya (Rp)                                   126045.0\n",
       "Name: 0.1, dtype: float64"
      ]
     },
     "execution_count": 57,
     "metadata": {},
     "output_type": "execute_result"
    }
   ],
   "source": [
    "df_b.quantile(0.1)"
   ]
  },
  {
   "cell_type": "code",
   "execution_count": 58,
   "metadata": {},
   "outputs": [
    {
     "data": {
      "text/plain": [
       "Jumlah percobaan per analisa                            28.0\n",
       "Biaya per percobaan (Rp/percobaan)                      18.0\n",
       "Biaya total analisa (Rp)                               420.0\n",
       "Lama per percobaan(jam)                                  8.0\n",
       "Lama total analisa (jam)                              2700.0\n",
       "Kriteria biaya akibat penghentian alat (Rp/jam)        600.0\n",
       "Total Biaya (Rp)                                   1080540.0\n",
       "Name: 0.9, dtype: float64"
      ]
     },
     "execution_count": 58,
     "metadata": {},
     "output_type": "execute_result"
    }
   ],
   "source": [
    "df_b.quantile(0.9)"
   ]
  },
  {
   "cell_type": "markdown",
   "metadata": {},
   "source": [
    "### Visualization"
   ]
  },
  {
   "cell_type": "code",
   "execution_count": 59,
   "metadata": {},
   "outputs": [
    {
     "data": {
      "text/plain": [
       "Hari\n",
       "Jum'at    15.541124\n",
       "Kamis     15.547212\n",
       "Minggu    15.531404\n",
       "Rabu      15.455031\n",
       "Sabtu     15.409207\n",
       "Selasa    15.512070\n",
       "Senin     15.571505\n",
       "Name: Jumlah percobaan per analisa, dtype: float64"
      ]
     },
     "execution_count": 59,
     "metadata": {},
     "output_type": "execute_result"
    }
   ],
   "source": [
    "rata2_perhari_b = df_b.groupby('Hari')['Jumlah percobaan per analisa'].mean()\n",
    "rata2_perhari_b"
   ]
  },
  {
   "cell_type": "code",
   "execution_count": 60,
   "metadata": {},
   "outputs": [
    {
     "data": {
      "image/png": "[encoded data removed]",
      "text/plain": [
       "<Figure size 576x396 with 1 Axes>"
      ]
     },
     "metadata": {},
     "output_type": "display_data"
    }
   ],
   "source": [
    "df_b.groupby('Hari')['Jumlah percobaan per analisa'].mean().plot(kind='bar', color='cornflowerblue')\n",
    "plt.title('Rata-rata Jumlah Percobaan per Hari')\n",
    "plt.xticks(rotation=0)\n",
    "\n",
    "for i, j in enumerate(df_b.groupby('Hari')['Jumlah percobaan per analisa'].mean()):\n",
    "    plt.text(i, j+0.5, str(round(j,2)), ha=\"center\")\n",
    "\n",
    "ax = plt.axes()\n",
    "ax.set_ylim([0,17])\n",
    "plt.show()"
   ]
  },
  {
   "cell_type": "code",
   "execution_count": 61,
   "metadata": {},
   "outputs": [
    {
     "data": {
      "text/plain": [
       "Hari\n",
       "Jum'at    1406.620914\n",
       "Kamis     1390.387204\n",
       "Minggu    1680.583209\n",
       "Rabu      1392.534181\n",
       "Sabtu     1386.339991\n",
       "Selasa    1393.218329\n",
       "Senin     1406.537969\n",
       "Name: Lama total analisa (jam), dtype: float64"
      ]
     },
     "execution_count": 61,
     "metadata": {},
     "output_type": "execute_result"
    }
   ],
   "source": [
    "rata2_lama_analisa_b = df_b.groupby('Hari')['Lama total analisa (jam)'].mean()\n",
    "rata2_lama_analisa_b"
   ]
  },
  {
   "cell_type": "code",
   "execution_count": 62,
   "metadata": {},
   "outputs": [
    {
     "data": {
      "image/png": "[encoded data removed]",
      "text/plain": [
       "<Figure size 576x396 with 1 Axes>"
      ]
     },
     "metadata": {},
     "output_type": "display_data"
    }
   ],
   "source": [
    "df_b.groupby('Hari')['Lama total analisa (jam)'].mean().plot(kind='bar', color='lightcoral')\n",
    "plt.title('Rata-rata Lama Analisa per Hari')\n",
    "plt.xticks(rotation=0)\n",
    "\n",
    "for i, j in enumerate(df_b.groupby('Hari')['Lama total analisa (jam)'].mean()):\n",
    "    plt.text(i, j+20, str(round(j,2)), ha='center')\n",
    "plt.show()"
   ]
  },
  {
   "cell_type": "code",
   "execution_count": 63,
   "metadata": {},
   "outputs": [
    {
     "data": {
      "text/plain": [
       "601525.9111924926"
      ]
     },
     "execution_count": 63,
     "metadata": {},
     "output_type": "execute_result"
    }
   ],
   "source": [
    "df_b['Total Biaya (Rp)'].mean()"
   ]
  },
  {
   "cell_type": "code",
   "execution_count": 64,
   "metadata": {
    "scrolled": true
   },
   "outputs": [
    {
     "data": {
      "image/png": "[encoded data removed]",
      "text/plain": [
       "<Figure size 576x396 with 1 Axes>"
      ]
     },
     "metadata": {},
     "output_type": "display_data"
    }
   ],
   "source": [
    "# liat kecenderungan dari total biayanya \n",
    "plt.hist(df_b['Total Biaya (Rp)'], color='darkseagreen')\n",
    "plt.title('Grafik Total Biaya')\n",
    "plt.axvline(df_b['Total Biaya (Rp)'].median(),color='yellow')\n",
    "plt.axvline(df_b['Total Biaya (Rp)'].mean(),color='black')\n",
    "plt.show()"
   ]
  },
  {
   "cell_type": "markdown",
   "metadata": {},
   "source": [
    "### Correlation"
   ]
  },
  {
   "cell_type": "code",
   "execution_count": 65,
   "metadata": {
    "scrolled": true
   },
   "outputs": [
    {
     "data": {
      "text/html": [
       "<div>\n",
       "<style scoped>\n",
       "    .dataframe tbody tr th:only-of-type {\n",
       "        vertical-align: middle;\n",
       "    }\n",
       "\n",
       "    .dataframe tbody tr th {\n",
       "        vertical-align: top;\n",
       "    }\n",
       "\n",
       "    .dataframe thead th {\n",
       "        text-align: right;\n",
       "    }\n",
       "</style>\n",
       "<table border=\"1\" class=\"dataframe\">\n",
       "  <thead>\n",
       "    <tr style=\"text-align: right;\">\n",
       "      <th></th>\n",
       "      <th>Jumlah percobaan per analisa</th>\n",
       "      <th>Biaya per percobaan (Rp/percobaan)</th>\n",
       "      <th>Biaya total analisa (Rp)</th>\n",
       "      <th>Lama per percobaan(jam)</th>\n",
       "      <th>Lama total analisa (jam)</th>\n",
       "      <th>Kriteria biaya akibat penghentian alat (Rp/jam)</th>\n",
       "      <th>Total Biaya (Rp)</th>\n",
       "    </tr>\n",
       "  </thead>\n",
       "  <tbody>\n",
       "    <tr>\n",
       "      <th>Jumlah percobaan per analisa</th>\n",
       "      <td>1.000000</td>\n",
       "      <td>0.001025</td>\n",
       "      <td>0.990393</td>\n",
       "      <td>0.001468</td>\n",
       "      <td>0.892396</td>\n",
       "      <td>-0.001760</td>\n",
       "      <td>0.929498</td>\n",
       "    </tr>\n",
       "    <tr>\n",
       "      <th>Biaya per percobaan (Rp/percobaan)</th>\n",
       "      <td>0.001025</td>\n",
       "      <td>1.000000</td>\n",
       "      <td>0.121853</td>\n",
       "      <td>0.003939</td>\n",
       "      <td>0.110876</td>\n",
       "      <td>-0.167110</td>\n",
       "      <td>0.080263</td>\n",
       "    </tr>\n",
       "    <tr>\n",
       "      <th>Biaya total analisa (Rp)</th>\n",
       "      <td>0.990393</td>\n",
       "      <td>0.121853</td>\n",
       "      <td>1.000000</td>\n",
       "      <td>0.001744</td>\n",
       "      <td>0.901137</td>\n",
       "      <td>-0.021893</td>\n",
       "      <td>0.933038</td>\n",
       "    </tr>\n",
       "    <tr>\n",
       "      <th>Lama per percobaan(jam)</th>\n",
       "      <td>0.001468</td>\n",
       "      <td>0.003939</td>\n",
       "      <td>0.001744</td>\n",
       "      <td>1.000000</td>\n",
       "      <td>0.379116</td>\n",
       "      <td>-0.578929</td>\n",
       "      <td>0.272927</td>\n",
       "    </tr>\n",
       "    <tr>\n",
       "      <th>Lama total analisa (jam)</th>\n",
       "      <td>0.892396</td>\n",
       "      <td>0.110876</td>\n",
       "      <td>0.901137</td>\n",
       "      <td>0.379116</td>\n",
       "      <td>1.000000</td>\n",
       "      <td>-0.231595</td>\n",
       "      <td>0.977693</td>\n",
       "    </tr>\n",
       "    <tr>\n",
       "      <th>Kriteria biaya akibat penghentian alat (Rp/jam)</th>\n",
       "      <td>-0.001760</td>\n",
       "      <td>-0.167110</td>\n",
       "      <td>-0.021893</td>\n",
       "      <td>-0.578929</td>\n",
       "      <td>-0.231595</td>\n",
       "      <td>1.000000</td>\n",
       "      <td>-0.050208</td>\n",
       "    </tr>\n",
       "    <tr>\n",
       "      <th>Total Biaya (Rp)</th>\n",
       "      <td>0.929498</td>\n",
       "      <td>0.080263</td>\n",
       "      <td>0.933038</td>\n",
       "      <td>0.272927</td>\n",
       "      <td>0.977693</td>\n",
       "      <td>-0.050208</td>\n",
       "      <td>1.000000</td>\n",
       "    </tr>\n",
       "  </tbody>\n",
       "</table>\n",
       "</div>"
      ],
      "text/plain": [
       "                                                 Jumlah percobaan per analisa  \\\n",
       "Jumlah percobaan per analisa                                         1.000000   \n",
       "Biaya per percobaan (Rp/percobaan)                                   0.001025   \n",
       "Biaya total analisa (Rp)                                             0.990393   \n",
       "Lama per percobaan(jam)                                              0.001468   \n",
       "Lama total analisa (jam)                                             0.892396   \n",
       "Kriteria biaya akibat penghentian alat (Rp/jam)                     -0.001760   \n",
       "Total Biaya (Rp)                                                     0.929498   \n",
       "\n",
       "                                                 Biaya per percobaan (Rp/percobaan)  \\\n",
       "Jumlah percobaan per analisa                                               0.001025   \n",
       "Biaya per percobaan (Rp/percobaan)                                         1.000000   \n",
       "Biaya total analisa (Rp)                                                   0.121853   \n",
       "Lama per percobaan(jam)                                                    0.003939   \n",
       "Lama total analisa (jam)                                                   0.110876   \n",
       "Kriteria biaya akibat penghentian alat (Rp/jam)                           -0.167110   \n",
       "Total Biaya (Rp)                                                           0.080263   \n",
       "\n",
       "                                                 Biaya total analisa (Rp)  \\\n",
       "Jumlah percobaan per analisa                                     0.990393   \n",
       "Biaya per percobaan (Rp/percobaan)                               0.121853   \n",
       "Biaya total analisa (Rp)                                         1.000000   \n",
       "Lama per percobaan(jam)                                          0.001744   \n",
       "Lama total analisa (jam)                                         0.901137   \n",
       "Kriteria biaya akibat penghentian alat (Rp/jam)                 -0.021893   \n",
       "Total Biaya (Rp)                                                 0.933038   \n",
       "\n",
       "                                                 Lama per percobaan(jam)  \\\n",
       "Jumlah percobaan per analisa                                    0.001468   \n",
       "Biaya per percobaan (Rp/percobaan)                              0.003939   \n",
       "Biaya total analisa (Rp)                                        0.001744   \n",
       "Lama per percobaan(jam)                                         1.000000   \n",
       "Lama total analisa (jam)                                        0.379116   \n",
       "Kriteria biaya akibat penghentian alat (Rp/jam)                -0.578929   \n",
       "Total Biaya (Rp)                                                0.272927   \n",
       "\n",
       "                                                 Lama total analisa (jam)  \\\n",
       "Jumlah percobaan per analisa                                     0.892396   \n",
       "Biaya per percobaan (Rp/percobaan)                               0.110876   \n",
       "Biaya total analisa (Rp)                                         0.901137   \n",
       "Lama per percobaan(jam)                                          0.379116   \n",
       "Lama total analisa (jam)                                         1.000000   \n",
       "Kriteria biaya akibat penghentian alat (Rp/jam)                 -0.231595   \n",
       "Total Biaya (Rp)                                                 0.977693   \n",
       "\n",
       "                                                 Kriteria biaya akibat penghentian alat (Rp/jam)  \\\n",
       "Jumlah percobaan per analisa                                                           -0.001760   \n",
       "Biaya per percobaan (Rp/percobaan)                                                     -0.167110   \n",
       "Biaya total analisa (Rp)                                                               -0.021893   \n",
       "Lama per percobaan(jam)                                                                -0.578929   \n",
       "Lama total analisa (jam)                                                               -0.231595   \n",
       "Kriteria biaya akibat penghentian alat (Rp/jam)                                         1.000000   \n",
       "Total Biaya (Rp)                                                                       -0.050208   \n",
       "\n",
       "                                                 Total Biaya (Rp)  \n",
       "Jumlah percobaan per analisa                             0.929498  \n",
       "Biaya per percobaan (Rp/percobaan)                       0.080263  \n",
       "Biaya total analisa (Rp)                                 0.933038  \n",
       "Lama per percobaan(jam)                                  0.272927  \n",
       "Lama total analisa (jam)                                 0.977693  \n",
       "Kriteria biaya akibat penghentian alat (Rp/jam)         -0.050208  \n",
       "Total Biaya (Rp)                                         1.000000  "
      ]
     },
     "execution_count": 65,
     "metadata": {},
     "output_type": "execute_result"
    }
   ],
   "source": [
    "corrMatrixB = df_b.corr()\n",
    "corrMatrixB"
   ]
  },
  {
   "cell_type": "code",
   "execution_count": 66,
   "metadata": {
    "scrolled": true
   },
   "outputs": [
    {
     "data": {
      "image/png": "[encoded data removed]",
      "text/plain": [
       "<Figure size 576x396 with 2 Axes>"
      ]
     },
     "metadata": {},
     "output_type": "display_data"
    }
   ],
   "source": [
    "sns.heatmap(corrMatrixB, annot=True)\n",
    "plt.show()"
   ]
  },
  {
   "cell_type": "code",
   "execution_count": 83,
   "metadata": {
    "scrolled": true
   },
   "outputs": [
    {
     "name": "stdout",
     "output_type": "stream",
     "text": [
      "\n",
      "Koefisien korelasi :  0.8923964562631393 \n",
      "Dengan scatter plot:\n"
     ]
    },
    {
     "data": {
      "image/png": "[encoded data removed]",
      "text/plain": [
       "<Figure size 576x396 with 1 Axes>"
      ]
     },
     "metadata": {},
     "output_type": "display_data"
    }
   ],
   "source": [
    "print('\\nKoefisien korelasi : ', df_b['Jumlah percobaan per analisa'].corr(df_b['Lama total analisa (jam)']), '\\nDengan scatter plot:')\n",
    "df_b.plot(kind='scatter', x='Jumlah percobaan per analisa', y ='Lama total analisa (jam)', \n",
    "          title='Korelasi antara Jumlah percobaan per analisa dan Lama total analisa (jam)', color='tomato')\n",
    "plt.show()"
   ]
  },
  {
   "cell_type": "code",
   "execution_count": 86,
   "metadata": {
    "scrolled": true
   },
   "outputs": [
    {
     "name": "stdout",
     "output_type": "stream",
     "text": [
      "\n",
      "Koefisien korelasi :  0.001468030229291601 \n",
      "Dengan scatter plot:\n"
     ]
    },
    {
     "data": {
      "image/png": "[encoded data removed]",
      "text/plain": [
       "<Figure size 576x396 with 1 Axes>"
      ]
     },
     "metadata": {},
     "output_type": "display_data"
    }
   ],
   "source": [
    "print('\\nKoefisien korelasi : ', df_b['Lama per percobaan(jam)'].corr(df_b['Jumlah percobaan per analisa']), '\\nDengan scatter plot:')\n",
    "df_b.plot(kind='scatter', x='Lama per percobaan(jam)', y ='Jumlah percobaan per analisa', \n",
    "          title='Korelasi antara Lama per percobaan dan Jumlah percobaan per analisa ', color='tomato')\n",
    "plt.show()"
   ]
  },
  {
   "cell_type": "code",
   "execution_count": 90,
   "metadata": {},
   "outputs": [
    {
     "name": "stdout",
     "output_type": "stream",
     "text": [
      "\n",
      "Koefisien korelasi :  0.9776928353224748 \n",
      "Dengan scatter plot:\n"
     ]
    },
    {
     "data": {
      "image/png": "[encoded data removed]",
      "text/plain": [
       "<Figure size 576x396 with 1 Axes>"
      ]
     },
     "metadata": {},
     "output_type": "display_data"
    }
   ],
   "source": [
    "print('\\nKoefisien korelasi : ', df_b['Lama total analisa (jam)'].corr(df_b['Total Biaya (Rp)']), '\\nDengan scatter plot:')\n",
    "df_b.plot(kind='scatter', x='Lama total analisa (jam)', y ='Total Biaya (Rp)', \n",
    "          title='Korelasi antara Lama total analisa dan Total biaya', color='tomato')\n",
    "plt.show()"
   ]
  },
  {
   "cell_type": "markdown",
   "metadata": {},
   "source": [
    "## Perbandingan Kategori 1\n",
    "Membandingkan rata-rata banyaknya percobaan per hari antara perusahaan A dan B"
   ]
  },
  {
   "cell_type": "code",
   "execution_count": 91,
   "metadata": {},
   "outputs": [
    {
     "data": {
      "text/html": [
       "<div>\n",
       "<style scoped>\n",
       "    .dataframe tbody tr th:only-of-type {\n",
       "        vertical-align: middle;\n",
       "    }\n",
       "\n",
       "    .dataframe tbody tr th {\n",
       "        vertical-align: top;\n",
       "    }\n",
       "\n",
       "    .dataframe thead th {\n",
       "        text-align: right;\n",
       "    }\n",
       "</style>\n",
       "<table border=\"1\" class=\"dataframe\">\n",
       "  <thead>\n",
       "    <tr style=\"text-align: right;\">\n",
       "      <th></th>\n",
       "      <th>Hari</th>\n",
       "      <th>Jumlah percobaan per analisa</th>\n",
       "    </tr>\n",
       "  </thead>\n",
       "  <tbody>\n",
       "    <tr>\n",
       "      <th>0</th>\n",
       "      <td>Jum'at</td>\n",
       "      <td>15.453856</td>\n",
       "    </tr>\n",
       "    <tr>\n",
       "      <th>1</th>\n",
       "      <td>Kamis</td>\n",
       "      <td>15.459731</td>\n",
       "    </tr>\n",
       "    <tr>\n",
       "      <th>2</th>\n",
       "      <td>Minggu</td>\n",
       "      <td>15.490707</td>\n",
       "    </tr>\n",
       "    <tr>\n",
       "      <th>3</th>\n",
       "      <td>Rabu</td>\n",
       "      <td>15.489212</td>\n",
       "    </tr>\n",
       "    <tr>\n",
       "      <th>4</th>\n",
       "      <td>Sabtu</td>\n",
       "      <td>15.439116</td>\n",
       "    </tr>\n",
       "    <tr>\n",
       "      <th>5</th>\n",
       "      <td>Selasa</td>\n",
       "      <td>15.409207</td>\n",
       "    </tr>\n",
       "    <tr>\n",
       "      <th>6</th>\n",
       "      <td>Senin</td>\n",
       "      <td>15.301399</td>\n",
       "    </tr>\n",
       "  </tbody>\n",
       "</table>\n",
       "</div>"
      ],
      "text/plain": [
       "     Hari  Jumlah percobaan per analisa\n",
       "0  Jum'at                     15.453856\n",
       "1  Kamis                      15.459731\n",
       "2  Minggu                     15.490707\n",
       "3   Rabu                      15.489212\n",
       "4   Sabtu                     15.439116\n",
       "5  Selasa                     15.409207\n",
       "6   Senin                     15.301399"
      ]
     },
     "execution_count": 91,
     "metadata": {},
     "output_type": "execute_result"
    }
   ],
   "source": [
    "vis1 = rata2_perhari_a.reset_index()\n",
    "vis1"
   ]
  },
  {
   "cell_type": "code",
   "execution_count": 92,
   "metadata": {
    "scrolled": true
   },
   "outputs": [
    {
     "data": {
      "text/html": [
       "<div>\n",
       "<style scoped>\n",
       "    .dataframe tbody tr th:only-of-type {\n",
       "        vertical-align: middle;\n",
       "    }\n",
       "\n",
       "    .dataframe tbody tr th {\n",
       "        vertical-align: top;\n",
       "    }\n",
       "\n",
       "    .dataframe thead th {\n",
       "        text-align: right;\n",
       "    }\n",
       "</style>\n",
       "<table border=\"1\" class=\"dataframe\">\n",
       "  <thead>\n",
       "    <tr style=\"text-align: right;\">\n",
       "      <th></th>\n",
       "      <th>Hari</th>\n",
       "      <th>Jumlah percobaan per analisa</th>\n",
       "    </tr>\n",
       "  </thead>\n",
       "  <tbody>\n",
       "    <tr>\n",
       "      <th>0</th>\n",
       "      <td>Jum'at</td>\n",
       "      <td>15.541124</td>\n",
       "    </tr>\n",
       "    <tr>\n",
       "      <th>1</th>\n",
       "      <td>Kamis</td>\n",
       "      <td>15.547212</td>\n",
       "    </tr>\n",
       "    <tr>\n",
       "      <th>2</th>\n",
       "      <td>Minggu</td>\n",
       "      <td>15.531404</td>\n",
       "    </tr>\n",
       "    <tr>\n",
       "      <th>3</th>\n",
       "      <td>Rabu</td>\n",
       "      <td>15.455031</td>\n",
       "    </tr>\n",
       "    <tr>\n",
       "      <th>4</th>\n",
       "      <td>Sabtu</td>\n",
       "      <td>15.409207</td>\n",
       "    </tr>\n",
       "    <tr>\n",
       "      <th>5</th>\n",
       "      <td>Selasa</td>\n",
       "      <td>15.512070</td>\n",
       "    </tr>\n",
       "    <tr>\n",
       "      <th>6</th>\n",
       "      <td>Senin</td>\n",
       "      <td>15.571505</td>\n",
       "    </tr>\n",
       "  </tbody>\n",
       "</table>\n",
       "</div>"
      ],
      "text/plain": [
       "     Hari  Jumlah percobaan per analisa\n",
       "0  Jum'at                     15.541124\n",
       "1  Kamis                      15.547212\n",
       "2  Minggu                     15.531404\n",
       "3   Rabu                      15.455031\n",
       "4   Sabtu                     15.409207\n",
       "5  Selasa                     15.512070\n",
       "6   Senin                     15.571505"
      ]
     },
     "execution_count": 92,
     "metadata": {},
     "output_type": "execute_result"
    }
   ],
   "source": [
    "vis1_b = rata2_perhari_b.reset_index()\n",
    "vis1_b"
   ]
  },
  {
   "cell_type": "code",
   "execution_count": 93,
   "metadata": {
    "scrolled": false
   },
   "outputs": [],
   "source": [
    "# gabungkan menjadi dataframe baru\n",
    "\n",
    "vis1['Jumlah percobaan per analisa B'] = vis1_b['Jumlah percobaan per analisa']\n",
    "vis1 = vis1.rename(columns={'Jumlah percobaan per analisa':'Jumlah percobaan per analisa A'})"
   ]
  },
  {
   "cell_type": "code",
   "execution_count": 94,
   "metadata": {},
   "outputs": [
    {
     "data": {
      "text/html": [
       "<div>\n",
       "<style scoped>\n",
       "    .dataframe tbody tr th:only-of-type {\n",
       "        vertical-align: middle;\n",
       "    }\n",
       "\n",
       "    .dataframe tbody tr th {\n",
       "        vertical-align: top;\n",
       "    }\n",
       "\n",
       "    .dataframe thead th {\n",
       "        text-align: right;\n",
       "    }\n",
       "</style>\n",
       "<table border=\"1\" class=\"dataframe\">\n",
       "  <thead>\n",
       "    <tr style=\"text-align: right;\">\n",
       "      <th></th>\n",
       "      <th>Hari</th>\n",
       "      <th>Jumlah percobaan per analisa A</th>\n",
       "      <th>Jumlah percobaan per analisa B</th>\n",
       "    </tr>\n",
       "  </thead>\n",
       "  <tbody>\n",
       "    <tr>\n",
       "      <th>0</th>\n",
       "      <td>Jum'at</td>\n",
       "      <td>15.453856</td>\n",
       "      <td>15.541124</td>\n",
       "    </tr>\n",
       "    <tr>\n",
       "      <th>1</th>\n",
       "      <td>Kamis</td>\n",
       "      <td>15.459731</td>\n",
       "      <td>15.547212</td>\n",
       "    </tr>\n",
       "    <tr>\n",
       "      <th>2</th>\n",
       "      <td>Minggu</td>\n",
       "      <td>15.490707</td>\n",
       "      <td>15.531404</td>\n",
       "    </tr>\n",
       "    <tr>\n",
       "      <th>3</th>\n",
       "      <td>Rabu</td>\n",
       "      <td>15.489212</td>\n",
       "      <td>15.455031</td>\n",
       "    </tr>\n",
       "    <tr>\n",
       "      <th>4</th>\n",
       "      <td>Sabtu</td>\n",
       "      <td>15.439116</td>\n",
       "      <td>15.409207</td>\n",
       "    </tr>\n",
       "    <tr>\n",
       "      <th>5</th>\n",
       "      <td>Selasa</td>\n",
       "      <td>15.409207</td>\n",
       "      <td>15.512070</td>\n",
       "    </tr>\n",
       "    <tr>\n",
       "      <th>6</th>\n",
       "      <td>Senin</td>\n",
       "      <td>15.301399</td>\n",
       "      <td>15.571505</td>\n",
       "    </tr>\n",
       "  </tbody>\n",
       "</table>\n",
       "</div>"
      ],
      "text/plain": [
       "     Hari  Jumlah percobaan per analisa A  Jumlah percobaan per analisa B\n",
       "0  Jum'at                       15.453856                       15.541124\n",
       "1  Kamis                        15.459731                       15.547212\n",
       "2  Minggu                       15.490707                       15.531404\n",
       "3   Rabu                        15.489212                       15.455031\n",
       "4   Sabtu                       15.439116                       15.409207\n",
       "5  Selasa                       15.409207                       15.512070\n",
       "6   Senin                       15.301399                       15.571505"
      ]
     },
     "execution_count": 94,
     "metadata": {},
     "output_type": "execute_result"
    }
   ],
   "source": [
    "vis1"
   ]
  },
  {
   "cell_type": "code",
   "execution_count": 95,
   "metadata": {
    "scrolled": false
   },
   "outputs": [
    {
     "data": {
      "image/png": "[encoded data removed]",
      "text/plain": [
       "<Figure size 720x432 with 1 Axes>"
      ]
     },
     "metadata": {},
     "output_type": "display_data"
    }
   ],
   "source": [
    "vis_1 = vis1.plot(kind='bar',x='Hari', color=('lightcoral','cornflowerblue'),\n",
    "figsize=(10,6), title='Perbandingan Rata-rata Banyak Percobaan per Hari antara Perusahaan A dan B')\n",
    "vis_1.set(ylabel='Rata-rata Banyak Percobaan per Hari', xlabel='Hari')\n",
    "plt.xticks(rotation=0)\n",
    "ax = plt.axes()\n",
    "ax.set_ylim([0,19])\n",
    "\n",
    "for k, l in enumerate(vis1['Jumlah percobaan per analisa B']):\n",
    "    plt.text(k, l+0.5, str(round(l,2)), ha='left')\n",
    "\n",
    "for i, j in enumerate(vis1['Jumlah percobaan per analisa A']):\n",
    "    plt.text(i, j+0.5, str(round(j,2)), ha='right')\n",
    "\n",
    "plt.show()"
   ]
  },
  {
   "cell_type": "code",
   "execution_count": 96,
   "metadata": {},
   "outputs": [
    {
     "data": {
      "text/plain": [
       "Jumlah percobaan per analisa A    15.434747\n",
       "Jumlah percobaan per analisa B    15.509650\n",
       "dtype: float64"
      ]
     },
     "execution_count": 96,
     "metadata": {},
     "output_type": "execute_result"
    }
   ],
   "source": [
    "vis1[['Jumlah percobaan per analisa A', 'Jumlah percobaan per analisa B']].mean()"
   ]
  },
  {
   "cell_type": "markdown",
   "metadata": {},
   "source": [
    "## Perbandingan Kategori 2\n",
    "\n",
    "Membandingkan rata2 lama analisa yang dilakukan di perusahaan A dan B"
   ]
  },
  {
   "cell_type": "code",
   "execution_count": 97,
   "metadata": {},
   "outputs": [
    {
     "data": {
      "text/html": [
       "<div>\n",
       "<style scoped>\n",
       "    .dataframe tbody tr th:only-of-type {\n",
       "        vertical-align: middle;\n",
       "    }\n",
       "\n",
       "    .dataframe tbody tr th {\n",
       "        vertical-align: top;\n",
       "    }\n",
       "\n",
       "    .dataframe thead th {\n",
       "        text-align: right;\n",
       "    }\n",
       "</style>\n",
       "<table border=\"1\" class=\"dataframe\">\n",
       "  <thead>\n",
       "    <tr style=\"text-align: right;\">\n",
       "      <th></th>\n",
       "      <th>Hari</th>\n",
       "      <th>Lama total analisa (jam)</th>\n",
       "    </tr>\n",
       "  </thead>\n",
       "  <tbody>\n",
       "    <tr>\n",
       "      <th>0</th>\n",
       "      <td>Jum'at</td>\n",
       "      <td>1279.329203</td>\n",
       "    </tr>\n",
       "    <tr>\n",
       "      <th>1</th>\n",
       "      <td>Kamis</td>\n",
       "      <td>1285.231788</td>\n",
       "    </tr>\n",
       "    <tr>\n",
       "      <th>2</th>\n",
       "      <td>Minggu</td>\n",
       "      <td>1707.744072</td>\n",
       "    </tr>\n",
       "    <tr>\n",
       "      <th>3</th>\n",
       "      <td>Rabu</td>\n",
       "      <td>1267.206793</td>\n",
       "    </tr>\n",
       "    <tr>\n",
       "      <th>4</th>\n",
       "      <td>Sabtu</td>\n",
       "      <td>1285.061953</td>\n",
       "    </tr>\n",
       "    <tr>\n",
       "      <th>5</th>\n",
       "      <td>Selasa</td>\n",
       "      <td>1274.645909</td>\n",
       "    </tr>\n",
       "    <tr>\n",
       "      <th>6</th>\n",
       "      <td>Senin</td>\n",
       "      <td>1262.721884</td>\n",
       "    </tr>\n",
       "  </tbody>\n",
       "</table>\n",
       "</div>"
      ],
      "text/plain": [
       "     Hari  Lama total analisa (jam)\n",
       "0  Jum'at               1279.329203\n",
       "1  Kamis                1285.231788\n",
       "2  Minggu               1707.744072\n",
       "3   Rabu                1267.206793\n",
       "4   Sabtu               1285.061953\n",
       "5  Selasa               1274.645909\n",
       "6   Senin               1262.721884"
      ]
     },
     "execution_count": 97,
     "metadata": {},
     "output_type": "execute_result"
    }
   ],
   "source": [
    "vis2 = rata2_lama_analisa_a.reset_index()\n",
    "vis2"
   ]
  },
  {
   "cell_type": "code",
   "execution_count": 98,
   "metadata": {},
   "outputs": [
    {
     "data": {
      "text/html": [
       "<div>\n",
       "<style scoped>\n",
       "    .dataframe tbody tr th:only-of-type {\n",
       "        vertical-align: middle;\n",
       "    }\n",
       "\n",
       "    .dataframe tbody tr th {\n",
       "        vertical-align: top;\n",
       "    }\n",
       "\n",
       "    .dataframe thead th {\n",
       "        text-align: right;\n",
       "    }\n",
       "</style>\n",
       "<table border=\"1\" class=\"dataframe\">\n",
       "  <thead>\n",
       "    <tr style=\"text-align: right;\">\n",
       "      <th></th>\n",
       "      <th>Hari</th>\n",
       "      <th>Lama total analisa (jam)</th>\n",
       "    </tr>\n",
       "  </thead>\n",
       "  <tbody>\n",
       "    <tr>\n",
       "      <th>0</th>\n",
       "      <td>Jum'at</td>\n",
       "      <td>1406.620914</td>\n",
       "    </tr>\n",
       "    <tr>\n",
       "      <th>1</th>\n",
       "      <td>Kamis</td>\n",
       "      <td>1390.387204</td>\n",
       "    </tr>\n",
       "    <tr>\n",
       "      <th>2</th>\n",
       "      <td>Minggu</td>\n",
       "      <td>1680.583209</td>\n",
       "    </tr>\n",
       "    <tr>\n",
       "      <th>3</th>\n",
       "      <td>Rabu</td>\n",
       "      <td>1392.534181</td>\n",
       "    </tr>\n",
       "    <tr>\n",
       "      <th>4</th>\n",
       "      <td>Sabtu</td>\n",
       "      <td>1386.339991</td>\n",
       "    </tr>\n",
       "    <tr>\n",
       "      <th>5</th>\n",
       "      <td>Selasa</td>\n",
       "      <td>1393.218329</td>\n",
       "    </tr>\n",
       "    <tr>\n",
       "      <th>6</th>\n",
       "      <td>Senin</td>\n",
       "      <td>1406.537969</td>\n",
       "    </tr>\n",
       "  </tbody>\n",
       "</table>\n",
       "</div>"
      ],
      "text/plain": [
       "     Hari  Lama total analisa (jam)\n",
       "0  Jum'at               1406.620914\n",
       "1  Kamis                1390.387204\n",
       "2  Minggu               1680.583209\n",
       "3   Rabu                1392.534181\n",
       "4   Sabtu               1386.339991\n",
       "5  Selasa               1393.218329\n",
       "6   Senin               1406.537969"
      ]
     },
     "execution_count": 98,
     "metadata": {},
     "output_type": "execute_result"
    }
   ],
   "source": [
    "vis2_b = rata2_lama_analisa_b.reset_index()\n",
    "vis2_b"
   ]
  },
  {
   "cell_type": "code",
   "execution_count": 99,
   "metadata": {},
   "outputs": [
    {
     "data": {
      "text/html": [
       "<div>\n",
       "<style scoped>\n",
       "    .dataframe tbody tr th:only-of-type {\n",
       "        vertical-align: middle;\n",
       "    }\n",
       "\n",
       "    .dataframe tbody tr th {\n",
       "        vertical-align: top;\n",
       "    }\n",
       "\n",
       "    .dataframe thead th {\n",
       "        text-align: right;\n",
       "    }\n",
       "</style>\n",
       "<table border=\"1\" class=\"dataframe\">\n",
       "  <thead>\n",
       "    <tr style=\"text-align: right;\">\n",
       "      <th></th>\n",
       "      <th>Hari</th>\n",
       "      <th>Lama total analisa A</th>\n",
       "      <th>Lama total analisa B</th>\n",
       "    </tr>\n",
       "  </thead>\n",
       "  <tbody>\n",
       "    <tr>\n",
       "      <th>0</th>\n",
       "      <td>Jum'at</td>\n",
       "      <td>1279.329203</td>\n",
       "      <td>1406.620914</td>\n",
       "    </tr>\n",
       "    <tr>\n",
       "      <th>1</th>\n",
       "      <td>Kamis</td>\n",
       "      <td>1285.231788</td>\n",
       "      <td>1390.387204</td>\n",
       "    </tr>\n",
       "    <tr>\n",
       "      <th>2</th>\n",
       "      <td>Minggu</td>\n",
       "      <td>1707.744072</td>\n",
       "      <td>1680.583209</td>\n",
       "    </tr>\n",
       "    <tr>\n",
       "      <th>3</th>\n",
       "      <td>Rabu</td>\n",
       "      <td>1267.206793</td>\n",
       "      <td>1392.534181</td>\n",
       "    </tr>\n",
       "    <tr>\n",
       "      <th>4</th>\n",
       "      <td>Sabtu</td>\n",
       "      <td>1285.061953</td>\n",
       "      <td>1386.339991</td>\n",
       "    </tr>\n",
       "    <tr>\n",
       "      <th>5</th>\n",
       "      <td>Selasa</td>\n",
       "      <td>1274.645909</td>\n",
       "      <td>1393.218329</td>\n",
       "    </tr>\n",
       "    <tr>\n",
       "      <th>6</th>\n",
       "      <td>Senin</td>\n",
       "      <td>1262.721884</td>\n",
       "      <td>1406.537969</td>\n",
       "    </tr>\n",
       "  </tbody>\n",
       "</table>\n",
       "</div>"
      ],
      "text/plain": [
       "     Hari  Lama total analisa A  Lama total analisa B\n",
       "0  Jum'at           1279.329203           1406.620914\n",
       "1  Kamis            1285.231788           1390.387204\n",
       "2  Minggu           1707.744072           1680.583209\n",
       "3   Rabu            1267.206793           1392.534181\n",
       "4   Sabtu           1285.061953           1386.339991\n",
       "5  Selasa           1274.645909           1393.218329\n",
       "6   Senin           1262.721884           1406.537969"
      ]
     },
     "execution_count": 99,
     "metadata": {},
     "output_type": "execute_result"
    }
   ],
   "source": [
    "# gabungkan menjadi dataframe baru\n",
    "\n",
    "vis2['Lama total analisa B'] = vis2_b['Lama total analisa (jam)']\n",
    "vis2 = vis2.rename(columns={'Lama total analisa (jam)':'Lama total analisa A'})\n",
    "vis2"
   ]
  },
  {
   "cell_type": "code",
   "execution_count": 102,
   "metadata": {},
   "outputs": [
    {
     "data": {
      "image/png": "[encoded data removed]",
      "text/plain": [
       "<Figure size 720x432 with 1 Axes>"
      ]
     },
     "metadata": {},
     "output_type": "display_data"
    }
   ],
   "source": [
    "vis_2 = vis2.plot(kind='bar',x='Hari', color=('lightcoral','cornflowerblue'),\n",
    "figsize=(10,6), title='Perbandingan Rata-rata Lama Analisa per Hari antara Perusahaan A dan B')\n",
    "vis_2.set(ylabel='Rata-rata Lama Analisa per Hari', xlabel='Hari')\n",
    "plt.xticks(rotation=0)\n",
    "ax = plt.axes()\n",
    "ax.set_ylim([0,1900])\n",
    "\n",
    "for k, l in enumerate(vis2['Lama total analisa A']):\n",
    "    plt.text(k, l+40, str(round(l,2)), ha='right')\n",
    "\n",
    "for i, j in enumerate(vis2['Lama total analisa B']):\n",
    "    plt.text(i, j+40, str(round(j,2)), ha='left')\n",
    "\n",
    "plt.show()"
   ]
  },
  {
   "cell_type": "code",
   "execution_count": 103,
   "metadata": {},
   "outputs": [
    {
     "data": {
      "text/plain": [
       "Lama total analisa A    1337.420229\n",
       "Lama total analisa B    1436.603114\n",
       "dtype: float64"
      ]
     },
     "execution_count": 103,
     "metadata": {},
     "output_type": "execute_result"
    }
   ],
   "source": [
    "vis2[['Lama total analisa A', 'Lama total analisa B']].mean()"
   ]
  },
  {
   "cell_type": "markdown",
   "metadata": {},
   "source": [
    "## Perbandingan Kategori 3\n",
    "\n",
    "Membandingkan total biaya antara perusahaan A dan B"
   ]
  },
  {
   "cell_type": "code",
   "execution_count": 104,
   "metadata": {},
   "outputs": [
    {
     "data": {
      "image/png": "[encoded data removed]",
      "text/plain": [
       "<Figure size 576x396 with 1 Axes>"
      ]
     },
     "metadata": {},
     "output_type": "display_data"
    },
    {
     "data": {
      "image/png": "[encoded data removed]",
      "text/plain": [
       "<Figure size 576x396 with 1 Axes>"
      ]
     },
     "metadata": {},
     "output_type": "display_data"
    }
   ],
   "source": [
    "plt.hist(df_a['Total Biaya (Rp)'], color='darkseagreen')\n",
    "plt.title('Grafik Total Biaya Perusahaan A')\n",
    "plt.axvline(df_a['Total Biaya (Rp)'].median(),color='yellow')\n",
    "plt.axvline(df_a['Total Biaya (Rp)'].mean(),color='black')\n",
    "plt.show()\n",
    "\n",
    "plt.hist(df_b['Total Biaya (Rp)'], color='darkseagreen')\n",
    "plt.title('Grafik Total Biaya Perusahaan B')\n",
    "plt.axvline(df_b['Total Biaya (Rp)'].median(),color='yellow')\n",
    "plt.axvline(df_b['Total Biaya (Rp)'].mean(),color='black')\n",
    "plt.show()"
   ]
  },
  {
   "cell_type": "code",
   "execution_count": 105,
   "metadata": {},
   "outputs": [
    {
     "data": {
      "text/plain": [
       "573960.8737315938"
      ]
     },
     "execution_count": 105,
     "metadata": {},
     "output_type": "execute_result"
    }
   ],
   "source": [
    "df_a['Total Biaya (Rp)'].mean()"
   ]
  },
  {
   "cell_type": "code",
   "execution_count": 106,
   "metadata": {},
   "outputs": [
    {
     "data": {
      "text/plain": [
       "601525.9111924926"
      ]
     },
     "execution_count": 106,
     "metadata": {},
     "output_type": "execute_result"
    }
   ],
   "source": [
    "df_b['Total Biaya (Rp)'].mean()"
   ]
  },
  {
   "cell_type": "markdown",
   "metadata": {},
   "source": [
    "### Efficiency Comparison"
   ]
  },
  {
   "cell_type": "code",
   "execution_count": 107,
   "metadata": {},
   "outputs": [
    {
     "data": {
      "text/plain": [
       "Jumlah percobaan per analisa A    15.434747\n",
       "Jumlah percobaan per analisa B    15.509650\n",
       "dtype: float64"
      ]
     },
     "execution_count": 107,
     "metadata": {},
     "output_type": "execute_result"
    }
   ],
   "source": [
    "vis1[['Jumlah percobaan per analisa A', 'Jumlah percobaan per analisa B']].mean()"
   ]
  },
  {
   "cell_type": "code",
   "execution_count": 108,
   "metadata": {},
   "outputs": [
    {
     "data": {
      "text/plain": [
       "Lama total analisa A    1337.420229\n",
       "Lama total analisa B    1436.603114\n",
       "dtype: float64"
      ]
     },
     "execution_count": 108,
     "metadata": {},
     "output_type": "execute_result"
    }
   ],
   "source": [
    "vis2[['Lama total analisa A', 'Lama total analisa B']].mean()"
   ]
  },
  {
   "cell_type": "code",
   "execution_count": 109,
   "metadata": {},
   "outputs": [
    {
     "data": {
      "text/plain": [
       "573960.8737315938"
      ]
     },
     "execution_count": 109,
     "metadata": {},
     "output_type": "execute_result"
    }
   ],
   "source": [
    "df_a['Total Biaya (Rp)'].mean()"
   ]
  },
  {
   "cell_type": "code",
   "execution_count": 110,
   "metadata": {},
   "outputs": [
    {
     "data": {
      "text/plain": [
       "601525.9111924926"
      ]
     },
     "execution_count": 110,
     "metadata": {},
     "output_type": "execute_result"
    }
   ],
   "source": [
    "df_b['Total Biaya (Rp)'].mean()"
   ]
  },
  {
   "cell_type": "markdown",
   "metadata": {},
   "source": [
    "Efektifitas = biaya per bagian = (jumlah percobaan+lama analisa)/total biaya"
   ]
  },
  {
   "cell_type": "code",
   "execution_count": 111,
   "metadata": {},
   "outputs": [
    {
     "data": {
      "text/plain": [
       "0.002357050868105574"
      ]
     },
     "execution_count": 111,
     "metadata": {},
     "output_type": "execute_result"
    }
   ],
   "source": [
    "efektifitas_a = ((vis1['Jumlah percobaan per analisa A'].mean()+vis2['Lama total analisa A'].mean())\n",
    "                /df_a['Total Biaya (Rp)'].mean())\n",
    "efektifitas_a"
   ]
  },
  {
   "cell_type": "code",
   "execution_count": 112,
   "metadata": {},
   "outputs": [
    {
     "data": {
      "text/plain": [
       "0.0024140485674894623"
      ]
     },
     "execution_count": 112,
     "metadata": {},
     "output_type": "execute_result"
    }
   ],
   "source": [
    "efektifitas_b = ((vis1['Jumlah percobaan per analisa B'].mean()+vis2['Lama total analisa B'].mean())\n",
    "                 /df_b['Total Biaya (Rp)'].mean())\n",
    "efektifitas_b"
   ]
  }
 ],
 "metadata": {
  "kernelspec": {
   "display_name": "Python 3",
   "language": "python",
   "name": "python3"
  },
  "language_info": {
   "codemirror_mode": {
    "name": "ipython",
    "version": 3
   },
   "file_extension": ".py",
   "mimetype": "text/x-python",
   "name": "python",
   "nbconvert_exporter": "python",
   "pygments_lexer": "ipython3",
   "version": "3.8.5"
  }
 },
 "nbformat": 4,
 "nbformat_minor": 4
}
